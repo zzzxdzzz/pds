{
 "cells": [
  {
   "cell_type": "code",
   "execution_count": 604,
   "metadata": {
    "scrolled": true
   },
   "outputs": [
    {
     "name": "stdout",
     "output_type": "stream",
     "text": [
      "Files ending with '5007065_001_rr.cub' in folder: /Users/zouxd/19PDART/COMET-DATA/-Processing-/expoxi-hriv-hartley2/sim1-ori/\n",
      "hv10110414_5007065_001_rr.cub\n",
      "Latitude: 1.433445719939808, Longitude: 46.066194512807343\n",
      "Sample: 485.677, Line: 530.576\n"
     ]
    }
   ],
   "source": [
    "#Input\n",
    "\n",
    "namename = \"5007065\"\n",
    "\n",
    "\n",
    "path = \"/Users/zouxd/19PDART/COMET-DATA/-Processing-/expoxi-hriv-hartley2/sim1-ori/\"\n",
    "\n",
    "import os\n",
    "\n",
    "def search_file_by_suffix(folder_path, suffix):\n",
    "    # Ensure the folder path is valid\n",
    "    if not os.path.exists(folder_path) or not os.path.isdir(folder_path):\n",
    "        print(f\"Error: The folder '{folder_path}' does not exist or is not a valid directory.\")\n",
    "        return None\n",
    "\n",
    "    # List all files in the folder\n",
    "    all_files = os.listdir(folder_path)\n",
    "\n",
    "    # Filter files ending with the specified suffix\n",
    "    matching_files = [file for file in all_files if file.endswith(suffix)]\n",
    "\n",
    "    return matching_files\n",
    "\n",
    "if __name__ == \"__main__\":\n",
    "    folder_path = path  # Replace this with the actual path to your folder\n",
    "    suffix_to_search = namename + \"_001_rr.cub\"\n",
    "\n",
    "    result = search_file_by_suffix(folder_path, suffix_to_search)\n",
    "\n",
    "    if result:\n",
    "        print(f\"Files ending with '{suffix_to_search}' in folder: {folder_path}\")\n",
    "        for file_name in result:\n",
    "            print(file_name)\n",
    "    else:\n",
    "        print(f\"No files ending with '{suffix_to_search}' found in folder: {folder_path}\")\n",
    "\n",
    "cubename = file_name\n",
    "\n",
    "#读取txt文件里的坐标\n",
    "import csv\n",
    "\n",
    "def read_csv_file(file_path):\n",
    "    data = []\n",
    "    with open(file_path, newline='') as csvfile:\n",
    "        reader = csv.DictReader(csvfile)\n",
    "        for row in reader:\n",
    "            data.append(row)\n",
    "    return data\n",
    "\n",
    "def filter_rows_by_filename(data, extension):\n",
    "    filtered_data = []\n",
    "    for row in data:\n",
    "        if row[\"FileName\"].endswith(extension):\n",
    "            filtered_data.append(row)\n",
    "    return filtered_data\n",
    "\n",
    "if __name__ == \"__main__\":\n",
    "    file_path = path + namename + \".txt\"  # Replace this with the actual path to your file\n",
    "    table_data = read_csv_file(file_path)\n",
    "\n",
    "    extension_to_filter = \"sim.cub\"\n",
    "    filtered_data = filter_rows_by_filename(table_data, extension_to_filter)\n",
    "\n",
    "    if filtered_data:\n",
    "        latitudes = []\n",
    "        longitudes = []\n",
    "        samples = []\n",
    "        lines = []\n",
    "\n",
    "        for row in filtered_data:\n",
    "            latitude = row[\"Planetocentric Latitude\"]\n",
    "            longitude = row[\"360 Positive East Longitude\"]\n",
    "\n",
    "\n",
    "            latitudes.append(float(latitude))\n",
    "            longitudes.append(float(longitude))\n",
    "\n",
    "\n",
    "            print(f\"Latitude: {latitude}, Longitude: {longitude}\")\n",
    "\n",
    "        # Do further processing with the lists of latitudes, longitudes, samples, and lines here\n",
    "\n",
    "    else:\n",
    "        print(f\"No rows found with the '{extension_to_filter}' extension.\")\n",
    "\n",
    "#读取txt文件里的像素位置\n",
    "extension_to_filter = \"rr.cub\"\n",
    "filtered_data = filter_rows_by_filename(table_data, extension_to_filter)\n",
    "\n",
    "if filtered_data:\n",
    "    samples = []\n",
    "    lines = []\n",
    "\n",
    "    for row in filtered_data:\n",
    "\n",
    "        sample = row[\"Sample\"]\n",
    "        line = row[\"Line\"]\n",
    "        samples.append(float(sample))\n",
    "        lines.append(float(line))\n",
    "print(f\"Sample: {sample}, Line: {line}\")\n",
    "\n",
    "\n"
   ]
  },
  {
   "cell_type": "code",
   "execution_count": 605,
   "metadata": {},
   "outputs": [
    {
     "name": "stdout",
     "output_type": "stream",
     "text": [
      "Files ending with '5007065_001_rr.sim.cub' in folder: /Users/zouxd/19PDART/COMET-DATA/-Processing-/expoxi-hriv-hartley2/sim1-ori/\n",
      "hv10110414_5007065_001_rr.sim.cub\n",
      "Original Filename: /Users/zouxd/19PDART/COMET-DATA/-Processing-/expoxi-hriv-hartley2/sim1-ori/hv10110414_5007065_001_rr.sim.cub\n",
      "Edited Filename: /Users/zouxd/19PDART/COMET-DATA/-Processing-/expoxi-hriv-hartley2/sim1-ori/hv10110414_5007065_001_rr.sim.old.cub\n"
     ]
    }
   ],
   "source": [
    "#修改文件名\n",
    "if __name__ == \"__main__\":\n",
    "    folder_path = path  # Replace this with the actual path to your folder\n",
    "    suffix_to_search = namename + \"_001_rr.sim.cub\"\n",
    "\n",
    "    result = search_file_by_suffix(folder_path, suffix_to_search)\n",
    "\n",
    "    if result:\n",
    "        print(f\"Files ending with '{suffix_to_search}' in folder: {folder_path}\")\n",
    "        for file_name in result:\n",
    "            print(file_name)\n",
    "    else:\n",
    "        print(f\"No files ending with '{suffix_to_search}' found in folder: {folder_path}\")\n",
    "\n",
    "simname = path + file_name\n",
    "\n",
    "def edit_filename(filename):\n",
    "    if filename.endswith(\".cub\"):\n",
    "        new_filename = filename[:-4] + \".old.cub\"\n",
    "        return new_filename\n",
    "    else:\n",
    "        print(f\"Error: The filename '{filename}' does not end with '.cub'.\")\n",
    "        return None\n",
    "\n",
    "if __name__ == \"__main__\":\n",
    "    original_filename = simname\n",
    "    edited_filename = edit_filename(original_filename)\n",
    "\n",
    "    if edited_filename:\n",
    "        print(f\"Original Filename: {original_filename}\")\n",
    "        print(f\"Edited Filename: {edited_filename}\")\n",
    "oldsim = edited_filename"
   ]
  },
  {
   "cell_type": "code",
   "execution_count": 606,
   "metadata": {},
   "outputs": [
    {
     "name": "stdout",
     "output_type": "stream",
     "text": [
      "deltack from=hv10110414_5007065_001_rr.cub method=direct samp1=485.677 line1=530.576 lat1=1.433445719939808 lon1=46.066194512807343\n",
      "mv /Users/zouxd/19PDART/COMET-DATA/-Processing-/expoxi-hriv-hartley2/sim1-ori/hv10110414_5007065_001_rr.sim.cub /Users/zouxd/19PDART/COMET-DATA/-Processing-/expoxi-hriv-hartley2/sim1-ori/hv10110414_5007065_001_rr.sim.old.cub\n",
      "image_simulation.sh hv10110414_5007065_001_rr.cub\n"
     ]
    }
   ],
   "source": [
    "#生成代码行\n",
    "print(f\"deltack from={cubename} method=direct samp1={sample} line1={line} lat1={latitude} lon1={longitude}\")\n",
    "print(f\"mv {simname} {oldsim}\")\n",
    "\n",
    "print(f\"image_simulation.sh {cubename}\")"
   ]
  },
  {
   "cell_type": "code",
   "execution_count": null,
   "metadata": {},
   "outputs": [],
   "source": [
    "\n"
   ]
  },
  {
   "cell_type": "code",
   "execution_count": null,
   "metadata": {},
   "outputs": [],
   "source": []
  },
  {
   "cell_type": "code",
   "execution_count": null,
   "metadata": {},
   "outputs": [],
   "source": []
  },
  {
   "cell_type": "code",
   "execution_count": null,
   "metadata": {},
   "outputs": [],
   "source": []
  }
 ],
 "metadata": {
  "kernelspec": {
   "display_name": "Python 3",
   "language": "python",
   "name": "python3"
  },
  "language_info": {
   "codemirror_mode": {
    "name": "ipython",
    "version": 3
   },
   "file_extension": ".py",
   "mimetype": "text/x-python",
   "name": "python",
   "nbconvert_exporter": "python",
   "pygments_lexer": "ipython3",
   "version": "3.7.6"
  }
 },
 "nbformat": 4,
 "nbformat_minor": 4
}
