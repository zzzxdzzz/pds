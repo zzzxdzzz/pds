{
 "cells": [
  {
   "cell_type": "code",
   "execution_count": 42,
   "metadata": {
    "scrolled": true
   },
   "outputs": [
    {
     "name": "stdout",
     "output_type": "stream",
     "text": [
      "Number of XML files: 1\n"
     ]
    }
   ],
   "source": [
    "import os\n",
    "import re  # Import the 're' module for regular expressions\n",
    "import pds4_tools\n",
    "\n",
    "# Specify the directory path you want to search for XML files in\n",
    "directory_path = '/Users/zouxd/Meeting/PDS-reviews/2023-09-15 DART/Ground/lcogt/data_lcogtddp/lcogt_1m0_03_fa19_20220925'\n",
    "\n",
    "# Initialize an empty list to store the XML files\n",
    "xml_files = []\n",
    "\n",
    "# Iterate over all files and directories in the specified path\n",
    "for root, dirs, files in os.walk(directory_path):\n",
    "    for file in files:\n",
    "        if file.endswith('.xml'):\n",
    "            # If the file ends with '.xml', add its full path to the list\n",
    "            xml_files.append(os.path.join(root, file))\n",
    "\n",
    "# Print the number of XML files found\n",
    "print(\"Number of XML files:\", len(xml_files))"
   ]
  },
  {
   "cell_type": "code",
   "execution_count": 43,
   "metadata": {},
   "outputs": [],
   "source": [
    "for root, dirs, files in os.walk(directory_path):\n",
    "    for file in files:\n",
    "        if file.endswith('.xml'):\n",
    "            # Create the full path to the XML file\n",
    "            xml_file_path = os.path.join(root, file)\n",
    "\n",
    "            try:\n",
    "                # Use pds4_tools to read the XML file\n",
    "                structures = pds4_tools.read(xml_file_path, quiet=True)\n",
    "            except Exception as e:\n",
    "                # Handle any errors that may occur while reading the file\n",
    "                print(f\"Error reading {xml_file_path}: {str(e)}\")\n",
    "\n"
   ]
  },
  {
   "cell_type": "code",
   "execution_count": 44,
   "metadata": {
    "scrolled": true
   },
   "outputs": [
    {
     "name": "stdout",
     "output_type": "stream",
     "text": [
      "0   Header           'HEADER_0'  UTF-8 Text\n",
      "1   Table_Character  'TABLE_0'   12 fields x 179 records\n"
     ]
    }
   ],
   "source": [
    "structures.info()"
   ]
  },
  {
   "cell_type": "code",
   "execution_count": 45,
   "metadata": {},
   "outputs": [
    {
     "name": "stdout",
     "output_type": "stream",
     "text": [
      "/Users/zouxd/Meeting/PDS-reviews/2023-09-15 DART/Ground/lcogt/data_lcogtddp/lcogt_1m0_03_fa19_20220925/lcogt_coj_fa19_20220925_3008394_65803didymos_photometry.xml\n"
     ]
    }
   ],
   "source": [
    "print(xml_file_path)"
   ]
  },
  {
   "cell_type": "code",
   "execution_count": 46,
   "metadata": {
    "scrolled": false
   },
   "outputs": [],
   "source": [
    "#print(structures[2].data)"
   ]
  },
  {
   "cell_type": "code",
   "execution_count": 47,
   "metadata": {},
   "outputs": [],
   "source": [
    "pds4_tools.view(xml_file_path)"
   ]
  },
  {
   "cell_type": "code",
   "execution_count": 52,
   "metadata": {},
   "outputs": [
    {
     "name": "stdout",
     "output_type": "stream",
     "text": [
      "Error: float division by zero\n",
      "Traceback (most recent call last):\n",
      "  File \"/opt/anaconda3/lib/python3.7/tkinter/__init__.py\", line 1705, in __call__\n",
      "    return self.func(*args)\n",
      "  File \"/opt/anaconda3/lib/python3.7/site-packages/pds4_tools/viewer/table_view.py\", line 358, in _horizontal_scroll\n",
      "    self._scroll(self._horz_scrollbar, first_cmd, second_cmd)\n",
      "  File \"/opt/anaconda3/lib/python3.7/site-packages/pds4_tools/viewer/table_view.py\", line 396, in _scroll\n",
      "    num_total_steps = 1 / scrollbar_length\n",
      "ZeroDivisionError: float division by zero\n"
     ]
    }
   ],
   "source": [
    "name = '/Users/zouxd/Meeting/PDS-reviews/2023-09-15 DART/done/Liciacube/luke_raw/final/liciacube_luke_l0_1664234195_00001_01.xml'\n",
    "\n",
    "pds4_tools.view(name)"
   ]
  },
  {
   "cell_type": "code",
   "execution_count": null,
   "metadata": {},
   "outputs": [],
   "source": []
  }
 ],
 "metadata": {
  "kernelspec": {
   "display_name": "Python 3",
   "language": "python",
   "name": "python3"
  },
  "language_info": {
   "codemirror_mode": {
    "name": "ipython",
    "version": 3
   },
   "file_extension": ".py",
   "mimetype": "text/x-python",
   "name": "python",
   "nbconvert_exporter": "python",
   "pygments_lexer": "ipython3",
   "version": "3.7.6"
  }
 },
 "nbformat": 4,
 "nbformat_minor": 4
}
