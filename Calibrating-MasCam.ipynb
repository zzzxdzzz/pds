{
 "cells": [
  {
   "cell_type": "code",
   "execution_count": 14,
   "metadata": {},
   "outputs": [],
   "source": [
    "gen = '/Users/zouxd/Meeting/PDS-reviews/2023-09-15 DART/liciacube-delta/leia_calibrated/calibration/liciacube_leia_cal_gen_001.xml'\n",
    "col =  '/Users/zouxd/Meeting/PDS-reviews/2023-09-15 DART/liciacube-delta/leia_calibrated/calibration/liciacube_leia_cal_col_001.xml'\n",
    "bia = ''\n",
    "Dark = ''\n",
    "flat = ''\n",
    "straylight = ''\n",
    "time_exp = ''\n",
    "time_expD = ''\n",
    "raw = '/Users/zouxd/Meeting/PDS-reviews/2023-09-15 DART/---new---/liciacube2/leia_raw/final/liciacube_leia_l0_1664234161_00001_01.xml'\n",
    "cal ='/Users/zouxd/Meeting/PDS-reviews/2023-09-15 DART/---new---/liciacube2/leia_calibrated/final/liciacube_leia_l2_1664234161_00001_01.xml'\n",
    "\n"
   ]
  },
  {
   "cell_type": "code",
   "execution_count": 15,
   "metadata": {},
   "outputs": [
    {
     "name": "stdout",
     "output_type": "stream",
     "text": [
      "Processing label: /Users/zouxd/Meeting/PDS-reviews/2023-09-15 DART/---new---/liciacube2/leia_calibrated/final/liciacube_leia_l2_1664234161_00001_01.xml\n",
      "Now processing a Header structure: HEADER_0\n",
      "Now processing a Array_2D_Image structure: liciacube_leia_l2_1664234161_00001_01\n"
     ]
    }
   ],
   "source": [
    "import pds4_tools\n",
    "data0 = pds4_tools.read(cal)\n",
    "header = data0[0].data\n",
    "dat = data0[1].data"
   ]
  },
  {
   "cell_type": "code",
   "execution_count": 16,
   "metadata": {},
   "outputs": [
    {
     "name": "stdout",
     "output_type": "stream",
     "text": [
      "b\"SIMPLE  =                    T / conforms to FITS standard                      BITPIX  =                  -32 / array data type                                NAXIS   =                    2 / number of array dimensions                     NAXIS1  =                 2048                                                  NAXIS2  =                 2048                                                  EXTEND  =                    T                                                  DATE    = '2022-09-26T23:16:01.100'                                             MISSION = 'DART    '                                                            HOSTNAME= 'LICIACube'                                                           INSTRUME= 'LEIA    '                                                            APID    =                    1                                                  TARGET  = 'Dimorphos'                                                           MPHASE  = 'final   '           / DART mission phase                             IMG_UTC = '2022-09-26T23:16:01.100' / Acquisition start time in UTC             SCLKNAME= 'licia_sclk_0002.tsc'                                                 READOUT =             165400.0 / Global readout time                            EXPTIME =                  0.1                                                  GAIN    =                    1 / Detector gain setting                          BINNING = 'OFF     '           / If binning is on or not                        TRUNC   = 'MSB     '                                                            RCNTTHST=                    0 / Whether thrusters were fired                   AOCWX   = 0.001843239995650947 / Rotation speed of LICIACube frame X axis       AOCWY   = 0.000382359983632341 / Rotation speed of LICIACube frame Y axis       AOCWZ   = -3.3314998290734E-05 / Rotation speed of LICIACube frame Z axis       DETTEMP =    20.00000000000001 / LEIA detector temperature                      WINXSTA =                   -1 / Column where window starts                     WINXEND =                   -1 / Column where window ends                       WINYSTA =                   -1 / Row where window starts                        WINYEND =                   -1 / Row where window ends                          CALFILEG= 'liciacube_leia_cal_gen_001.fits' / Name of general calibration file uCALFILEC= 'liciacube_leia_cal_col_001.fits' / Name of color calibration file useRADCONV =                    1 / Radiance conversion factor                     BADMASKV=               -1E+30 / Pixel value assigned to bad pixels             MISPXVAL=                1E+32 / Value assigned to missing pixels               SATPXVAL=                1E+30 / Pixel value assigned to saturated pixels       EPHMETA = 'dart_v02.tm'        / Ephemeris metakernel to be used                ATTMETA = 'dart_v02.tm'        / Attitude metakernel to be used                 CORT_UTC= '2022-09-26T23:16:00.900' / UTC time at mid-exposure time             CORTJDAT=       2459849.469457 / Julian Ephemeris Date based at mid exposure    SOCQDATA=   0.3920109202863567 / Spacecraft quaternion (q0)                     SOCQDATX=   0.8305798138542909 / Spacecraft quaternion (q1)                     SOCQDATY= -0.03093396105015603 / Spacecraft quaternion (q2)                     SOCQDATZ=    0.394344647799058 / Spacecraft quaternion (q3)                     BORE_RA =           313.778631 / Boresight right ascension                      BORE_DEC=            -22.61247 / Boresight declination                          CELN_CLK=               227.59 / Celestial north clock angle                    ECLN_CLK=               211.55 / Ecliptic north clock angle                     SUN_CLK =               121.89 / Sunward direction clock angle                  PXARCS  =                 5.16 / Pixel scale in arcsec                          PXMRAD  =                 25.0 / Instantaneous field of view of a pixel         PHDIST  =                 1.05 / Distance btw sun and primary target            PSCRNG  =               436.68 / Distance btw S/C and primary target            PSPHASE =                 55.1 / Angle btw sunw. to S/C dir., from the primary  PSELON  =                124.9 / Angle btw sunw. to primary, from the S/C       PPPCLK  =                31.42 / Positive pole clock angle of the primary targetPSUBLAT =               -15.19 / Sub-observer latitude of the primary target    PSUBLON =                274.0 / Sub-obs east longitude of the primary target   PSOLLAT =   -9.039999999999999 / Sub-solar latitude of the primary target       PSOLLON =               217.86 / Sub-solar longitude of the primary target      SHDIST  =                 1.05 / Distance btw the sun and the secondary, in AU  SSCRNG  =                436.6 / Distance btw the S/C and the secondary, in km  SSPHASE =               125.07 / Angle btw the sunw. to S/C dir., from secondarySSELON  =                31.25 / Angle btw the sunw. to  secondary, from the S/CSPPCLK  =               125.07 / Positive pole clock angle of secondary target  SSUBLAT =                -15.7 / Sub-observer latitude of the secondary target  SSUBLON =                 3.34 / Sub-observer longitude of the secondary target SSSOLLAT=   -9.460000000000001 / Sub-solar latitude of the secondary target     SSSOLLON=               307.27 / Sub-solar longitude of the secondary target    END                                                                                                                                                                                                                                                                                                                             \"\n"
     ]
    }
   ],
   "source": [
    "print(header)"
   ]
  },
  {
   "cell_type": "code",
   "execution_count": 17,
   "metadata": {},
   "outputs": [
    {
     "name": "stdout",
     "output_type": "stream",
     "text": [
      "2.122216e-05\n"
     ]
    }
   ],
   "source": [
    "dat = data0[1].data\n",
    "print(dat[968,1074])"
   ]
  },
  {
   "cell_type": "code",
   "execution_count": 18,
   "metadata": {},
   "outputs": [],
   "source": [
    "bias = 241.30404663085938\n",
    "bad = 0\n",
    "dark1 = 3.022437334060669\n",
    "dark2 = 113.35010528564453\n",
    "raww= 1214\n",
    "call= 2.122216e-05"
   ]
  },
  {
   "cell_type": "code",
   "execution_count": 23,
   "metadata": {},
   "outputs": [
    {
     "name": "stdout",
     "output_type": "stream",
     "text": [
      "972.6949086704684\n"
     ]
    }
   ],
   "source": [
    "import math\n",
    "\n",
    "x = raww - bias\n",
    "x = x - (dark1 * math.exp(-dark2/20))*0.1\n",
    "\n",
    "x = x/0.1\n",
    "print(x)"
   ]
  },
  {
   "cell_type": "code",
   "execution_count": 22,
   "metadata": {},
   "outputs": [
    {
     "name": "stdout",
     "output_type": "stream",
     "text": [
      "Processing label: /Users/zouxd/Meeting/PDS-reviews/2023-09-15 DART/---new---/liciacube2/leia_raw/final/liciacube_leia_l0_1664234161_00001_01.xml\n",
      "Found a Header structure: HEADER_0\n",
      "Found a Array_2D_Image structure: liciacube_leia_l0_1664234161_00001_01\n",
      "Now processing a Array_2D_Image structure: liciacube_leia_l0_1664234161_00001_01\n"
     ]
    }
   ],
   "source": [
    "pds4_tools.view(raw)"
   ]
  },
  {
   "cell_type": "code",
   "execution_count": null,
   "metadata": {},
   "outputs": [],
   "source": []
  }
 ],
 "metadata": {
  "kernelspec": {
   "display_name": "Python 3",
   "language": "python",
   "name": "python3"
  },
  "language_info": {
   "codemirror_mode": {
    "name": "ipython",
    "version": 3
   },
   "file_extension": ".py",
   "mimetype": "text/x-python",
   "name": "python",
   "nbconvert_exporter": "python",
   "pygments_lexer": "ipython3",
   "version": "3.7.6"
  }
 },
 "nbformat": 4,
 "nbformat_minor": 4
}
