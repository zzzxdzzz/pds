{
 "cells": [
  {
   "cell_type": "code",
   "execution_count": 6,
   "metadata": {},
   "outputs": [],
   "source": [
    "import pysis\n",
    "from pysis import isis\n",
    "from pysis.cubefile import CubeFile\n",
    "from os import path\n",
    "import os\n",
    "\n",
    "import pysis_ext\n"
   ]
  },
  {
   "cell_type": "code",
   "execution_count": 2,
   "metadata": {
    "scrolled": true
   },
   "outputs": [
    {
     "name": "stdout",
     "output_type": "stream",
     "text": [
      "Help on EZWrapper in module pysis_ext object:\n",
      "\n",
      "class EZWrapper(builtins.object)\n",
      " |  EZWrapper(func, to='to', **kwargs)\n",
      " |  \n",
      " |  Wrapper class for ISIS functions.  It converts the API of pysis.isis\n",
      " |  commands to the usual parameter form from the dictionary form.\n",
      " |  \n",
      " |  For example:\n",
      " |  \n",
      " |      Original API:\n",
      " |        isis.cam2map(**{'from': infile, 'to': outfile, 'map': mapfile, ...})\n",
      " |  \n",
      " |      New API:\n",
      " |        pysis_ext.cam2map()  # Open GUI\n",
      " |        pysis_ext.catlab(input)  # commands that don't take `to=` argument\n",
      " |        pysis_ext.cam2map(input, output, log=logfile, ...)\n",
      " |        pysis_ext.cubeit(input_list, output, **kwargs)\n",
      " |  \n",
      " |  The new API automatically check whether the input argument is a str\n",
      " |  or a list.  If it's a list, then it will use `fromlist=`, otherwise\n",
      " |  use `from=`\n",
      " |  \n",
      " |  To define an ISIS command with the new API:\n",
      " |  \n",
      " |      cmd_name = EZWrapper(isis_name, to='to', **kwargs)\n",
      " |  \n",
      " |      isis_name : str, the name of ISIS command\n",
      " |      fromlist : bool, optional, whether the ISIS command takes 'from='\n",
      " |        or 'fromlist=' input\n",
      " |      to : str, optional, the output signature of the ISIS command.\n",
      " |        E.g., automos takes 'mosaic=' as the output rather than 'to='\n",
      " |      **kwargs : The default values of other arguments to all calls\n",
      " |        to the newly defined function\n",
      " |      cmd_name : the new command defined\n",
      " |  \n",
      " |  Calling sequence:\n",
      " |  \n",
      " |      cmd_name(input, output, log=None, tempdir='.', listfile=None, **kwargs)\n",
      " |  \n",
      " |      input : str or list of str, the input for ISIS command\n",
      " |      output : str, output for ISIS command\n",
      " |      log : str, optional, name of log file\n",
      " |      tempdir : str, optional, working directory\n",
      " |      listfile : str, optional, the name of intermediate list file for\n",
      " |        commands that takes a list file as input.  If not provided,\n",
      " |        then the temporary list file will be removed after the call\n",
      " |      **kwargs : other key=value for the ISIS command.  The values set\n",
      " |        here will override the default values set in the initialization\n",
      " |        of functions.  The 'yes' or 'no' value keys can be set by boolean\n",
      " |        values True or False.\n",
      " |  \n",
      " |  v1.0.0 : JYL @PSI, 3/1/2016\n",
      " |  \n",
      " |  Methods defined here:\n",
      " |  \n",
      " |  __call__(self, *args, **kwargs)\n",
      " |      Call self as a function.\n",
      " |  \n",
      " |  __init__(self, func, to='to', **kwargs)\n",
      " |      Initialize self.  See help(type(self)) for accurate signature.\n",
      " |  \n",
      " |  ----------------------------------------------------------------------\n",
      " |  Data descriptors defined here:\n",
      " |  \n",
      " |  __dict__\n",
      " |      dictionary for instance variables (if defined)\n",
      " |  \n",
      " |  __weakref__\n",
      " |      list of weak references to the object (if defined)\n",
      "\n"
     ]
    }
   ],
   "source": [
    "help(pysis_ext.pds2isis)    #(input, output, log=logfile, ...)"
   ]
  },
  {
   "cell_type": "code",
   "execution_count": 3,
   "metadata": {},
   "outputs": [],
   "source": [
    "pysis_ext.pds2isis('/Users/zouxd/21DDAP-Li/CE_LAMO_L_HAULANI_EQU_DTM.IMG', '/Users/zouxd/21DDAP-Li/CE_LAMO_L_HAULANI_EQU_DTMtmp.cub')"
   ]
  },
  {
   "cell_type": "code",
   "execution_count": 7,
   "metadata": {},
   "outputs": [
    {
     "ename": "AttributeError",
     "evalue": "module 'pysis' has no attribute 'which'",
     "output_type": "error",
     "traceback": [
      "\u001b[0;31m---------------------------------------------------------------------------\u001b[0m",
      "\u001b[0;31mAttributeError\u001b[0m                            Traceback (most recent call last)",
      "\u001b[0;32m<ipython-input-7-7e843bc54225>\u001b[0m in \u001b[0;36m<module>\u001b[0;34m\u001b[0m\n\u001b[0;32m----> 1\u001b[0;31m \u001b[0mpysis\u001b[0m\u001b[0;34m.\u001b[0m\u001b[0mwhich\u001b[0m\u001b[0;34m(\u001b[0m\u001b[0misis\u001b[0m\u001b[0;34m)\u001b[0m\u001b[0;34m\u001b[0m\u001b[0;34m\u001b[0m\u001b[0m\n\u001b[0m",
      "\u001b[0;31mAttributeError\u001b[0m: module 'pysis' has no attribute 'which'"
     ]
    }
   ],
   "source": [
    "pysis.which(isis)\n"
   ]
  },
  {
   "cell_type": "code",
   "execution_count": null,
   "metadata": {},
   "outputs": [],
   "source": []
  }
 ],
 "metadata": {
  "kernelspec": {
   "display_name": "Python 3 (ipykernel)",
   "language": "python",
   "name": "python3"
  },
  "language_info": {
   "codemirror_mode": {
    "name": "ipython",
    "version": 3
   },
   "file_extension": ".py",
   "mimetype": "text/x-python",
   "name": "python",
   "nbconvert_exporter": "python",
   "pygments_lexer": "ipython3",
   "version": "3.9.6"
  }
 },
 "nbformat": 4,
 "nbformat_minor": 4
}
