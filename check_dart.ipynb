{
 "cells": [
  {
   "cell_type": "code",
   "execution_count": 1,
   "metadata": {},
   "outputs": [],
   "source": [
    "import os\n",
    "import numpy\n",
    "import glob\n",
    "from astropy.io import fits\n",
    "import matplotlib.pyplot as plt\n",
    "import pds4_tools\n"
   ]
  },
  {
   "cell_type": "code",
   "execution_count": 9,
   "metadata": {},
   "outputs": [
    {
     "name": "stdout",
     "output_type": "stream",
     "text": [
      "Processing label: /Users/zouxd/Meeting/PDS-reviews/2023-09-15 DART/liciacube-delta/luke_calibrated/final/liciacube_luke_l2_1664234177_00225_01.xml\n",
      "Now processing a Header structure: HEADER_0\n",
      "Now processing a Array_3D_Image structure: liciacube_luke_l2_1664234177_00225_01\n"
     ]
    }
   ],
   "source": [
    "name1 = '/Users/zouxd/Meeting/PDS-reviews/2023-09-15 DART/done/Liciacube/luke_calibrated/final/liciacube_luke_l2_1664234093_00005_01.xml'\n",
    "name2 = \"/Users/zouxd/Meeting/PDS-reviews/2023-09-15 DART/liciacube-delta/luke_calibrated/final/liciacube_luke_l2_1664234177_00225_01.xml\"\n",
    "name = name2\n",
    "structures = pds4_tools.read(name2) \n",
    "#image = structures[1].data\n",
    "#plt.figure(figsize=(18,6))\n",
    "#plt.imshow(image, cmap = 'hsv', vmin=0, vmax=1)\n",
    "#plt.colorbar()\n"
   ]
  },
  {
   "cell_type": "code",
   "execution_count": 10,
   "metadata": {},
   "outputs": [
    {
     "name": "stdout",
     "output_type": "stream",
     "text": [
      "Processing label: /Users/zouxd/Meeting/PDS-reviews/2023-09-15 DART/done/Liciacube/luke_calibrated/final/liciacube_luke_l2_1664234093_00005_01.xml\n",
      "Now processing a Header structure: HEADER_0\n",
      "Now processing a Array_3D_Image structure: liciacube_luke_l2_1664234093_00005_01\n",
      "b\"SIMPLE  =                    T / conforms to FITS standard                      BITPIX  =                  -32 / array data type                                NAXIS   =                    3 / number of array dimensions                     NAXIS1  =                 2048                                                  NAXIS2  =                 1088                                                  NAXIS3  =                    3                                                  EXTEND  =                    T                                                  DATE    = '2022-09-26T23:14:53.000'                                             MISSION = 'DART    '                                                            HOSTNAME= 'LICIACube'                                                           INSTRUME= 'LUKE    '                                                            APID    =                    1                                                  TARGET  = 'Dimorphos'                                                           MPHASE  = 'final   '           / DART mission phase                             IMG_TIME=      1664234093.0005                                                  IMG_UTC = '2022-09-26T23:14:53.000' / Acquisition start time in UTC             SCLKNAME= 'LCC220302-SCLK-V1.tsc'                                               READOUT =              2956.25 / Global readout time                            EXPTIME =               0.0005                                                  GAIN    =                    1 / Detector gain setting                          BINNING = 'OFF     '           / If binning is on or not                        TRUNC   = 'MSB     '                                                            RCNTTHST=                    0 / Whether thrusters were fired                   AOCWX   = 0.000515345018357038 / Rotation speed of LICIACube frame X axis       AOCWY   = 0.000202800001716241 / Rotation speed of LICIACube frame Y axis       AOCWZ   = -0.00012920500012114 / Rotation speed of LICIACube frame Z axis       DETTEMP =              -1000.0 / LUKE detector temperature                      WINXSTA =                   -1 / Column where window starts                     WINXEND =                   -1 / Column where window ends                       WINYSTA =                   -1 / Row where window starts                        WINYEND =                   -1 / Row where window ends                          CALFILEG= 'liciacube_luke_cal_gen_001.fits' / Name of general calibration file uCALFILEC= 'liciacube_luke_cal_col_001.fits' / Name of color calibration file useRADCONV =                    1 / Radiance conversion factor                     PLANE1  = 'RED     '           / Color of image plane                           PLANE2  = 'GREEN   '           / Color of image plane                           PLANE3  = 'BLUE    '           / Color of image plane                           BADMASKV=               -1E+30 / Pixel value assigned to bad pixels             MISPXVAL=                1E+32 / Value assigned to missing pixels               SATPXVAL=                1E+30 / Pixel value assigned to saturated pixels       EPHMETA = '20230328_LCC_SOC.mk' / Ephemeris metakernel to be used               ATTMETA = '20230328_LCC_SOC.mk' / Attitude metakernel to be used                CORT_UTC= '2022-09-26T23:14:52.909' / UTC time at mid-exposure time             CORTJDAT=            2459849.0 / Julian Ephemeris Date based at mid exposure    SOCQDATA=           0.81685244 / Spacecraft quaternion (q0)                     SOCQDATX=        -0.0587888545 / Spacecraft quaternion (q1)                     SOCQDATY=         0.3992213655 / Spacecraft quaternion (q2)                     SOCQDATZ=           0.41221143 / Spacecraft quaternion (q3)                     BORE_RA =    309.9930471200532 / Boresight right ascension                      BORE_DEC=   -20.13115597434709 / Boresight declination                          CELN_CLK=   -16.11671474215353 / Celestial north clock angle                    ECLN_CLK=    32.36371065651608 / Ecliptic north clock angle                     SUN_CLK =    174.2044810793003 / Sunward direction clock angle                  PXARCS  =    16.09071753533599 / Pixel scale in arcsec                          PXMRAD  =    78.01000000000001 / Instantaneous field of view of a pixel         PHDIST  =    1.046006005248871 / Distance btw sun and primary target            PSCRNG  =    852.8858472122837 / Distance btw S/C and primary target            PSPHASE =    57.20294603094019 / Angle btw sunw. to S/C dir., from the primary  PSELON  =    122.7970539339458 / Angle btw sunw. to primary, from the S/C       PPPCLK  =    2.898783641793904 / Positive pole clock angle of the primary targetPSUBLAT =   -13.03718335503402 / Sub-observer latitude of the primary target    PSUBLON =   -82.14249617070408 / Sub-obs east longitude of the primary target   PSOLLAT =   -11.25920621802867 / Sub-solar latitude of the primary target       PSOLLON =   -140.7558986306301 / Sub-solar longitude of the primary target      SHDIST  =    1.046006011160315 / Distance btw the sun and the secondary, in AU  SSCRNG  =      852.73144949146 / Distance btw the S/C and the secondary, in km  SSPHASE =    57.12554368502044 / Angle btw the sunw. to S/C dir., from secondarySSELON  =    122.8744562798717 / Angle btw the sunw. to  secondary, from the S/CSPPCLK  =   -9.958704281662602 / Positive pole clock angle of secondary target  SSUBLAT =   -13.03958368101076 / Sub-observer latitude of the secondary target  SSUBLON =    5.037899222479488 / Sub-observer longitude of the secondary target SSSOLLAT=   -11.25920615763438 / Sub-solar latitude of the secondary target     SSSOLLON=   -53.49595581176386 / Sub-solar longitude of the secondary target    END                                                                                                                                                                                                                                                                                                                                                                                                                                                                                                                                                                                                                                                                                                                                                                                                                                                                                                                                                                                                                                                                                                                                                                                                                                                                                                                                                                                                                                                                                                                                                                                                                                                                                                                                                                                                                                                                                                                                                                                                                                                                                                                                                                                                                                                                                                                                                                                                                                                                                                                                                                                                                                                                                                                                                                                                                                                                                                             \"\n"
     ]
    }
   ],
   "source": [
    "name = name1\n",
    "structures1 = pds4_tools.read(name1) \n",
    "h1 = structures1[0].data\n",
    "\n",
    "print(h1)"
   ]
  },
  {
   "cell_type": "code",
   "execution_count": 8,
   "metadata": {},
   "outputs": [
    {
     "name": "stdout",
     "output_type": "stream",
     "text": [
      "b\"SIMPLE  =                    T / conforms to FITS standard                      BITPIX  =                  -32 / array data type                                NAXIS   =                    3 / number of array dimensions                     NAXIS1  =                 2048                                                  NAXIS2  =                 1088                                                  NAXIS3  =                    3                                                  EXTEND  =                    T                                                  DATE    = '2022-09-26T23:16:17.022'                                             MISSION = 'DART    '                                                            HOSTNAME= 'LICIACube'                                                           INSTRUME= 'LUKE    '                                                            APID    =                    1                                                  TARGET  = 'Dimorphos'                                                           MPHASE  = 'final   '           / DART mission phase                             IMG_UTC = '2022-09-26T23:16:17.022' / Acquisition start time in UTC             SCLKNAME= 'LCC220918-SCLK-V1.tsc'                                               READOUT =              2956.25 / Global readout time                            EXPTIME =                 0.02                                                  GAIN    =                    1 / Detector gain setting                          BINNING = 'OFF     '           / If binning is on or not                        TRUNC   = 'MSB     '                                                            RCNTTHST=                    0 / Whether thrusters were fired                   AOCWX   = 0.003167845075950027 / Rotation speed of LICIACube frame X axis       AOCWY   = 0.000184564996743574 / Rotation speed of LICIACube frame Y axis       AOCWZ   = 6.07499987381743E-06 / Rotation speed of LICIACube frame Z axis       DETTEMP =                 34.5 / LUKE detector temperature                      WINXSTA =                   -1 / Column where window starts                     WINXEND =                   -1 / Column where window ends                       WINYSTA =                   -1 / Row where window starts                        WINYEND =                   -1 / Row where window ends                          CALFILEG= 'liciacube_luke_cal_gen_001.fits' / Name of general calibration file uCALFILEC= 'liciacube_luke_cal_col_001.fits' / Name of color calibration file useRADCONV =                    1 / Radiance conversion factor                     PLANE1  = 'RED     '           / Color of image plane                           PLANE2  = 'GREEN   '           / Color of image plane                           PLANE3  = 'BLUE    '           / Color of image plane                           BADMASKV=               -1E+30 / Pixel value assigned to bad pixels             MISPXVAL=                1E+32 / Value assigned to missing pixels               SATPXVAL=                1E+30 / Pixel value assigned to saturated pixels       EPHMETA = '20230328_LCC_SOC.mk' / Ephemeris metakernel to be used               ATTMETA = '20230328_LCC_SOC.mk' / Attitude metakernel to be used                CORT_UTC= '2022-09-26T23:16:16.922' / UTC time at mid-exposure time             CORTJDAT=       2459849.469642 / Julian Ephemeris Date based at mid exposure    SOCQDATA=   0.3770826857680515 / Spacecraft quaternion (q0)                     SOCQDATX=   0.8372126712534199 / Spacecraft quaternion (q1)                     SOCQDATY= -0.02341620972290304 / Spacecraft quaternion (q2)                     SOCQDATZ=   0.3953925546958099 / Spacecraft quaternion (q3)                     BORE_RA =           314.755717 / Boresight right ascension                      BORE_DEC=           -23.762524 / Boresight declination                          CELN_CLK=               227.96 / Celestial north clock angle                    ECLN_CLK=               211.59 / Ecliptic north clock angle                     SUN_CLK =               121.13 / Sunward direction clock angle                  PXARCS  =                16.09 / Pixel scale in arcsec                          PXMRAD  =                 78.0 / Instantaneous field of view of a pixel         PHDIST  =                 1.05 / Distance btw sun and primary target            PSCRNG  =               339.63 / Distance btw S/C and primary target            PSPHASE =                53.91 / Angle btw sunw. to S/C dir., from the primary  PSELON  =               126.09 / Angle btw sunw. to primary, from the S/C       PPPCLK  =                29.49 / Positive pole clock angle of the primary targetPSUBLAT =               -18.13 / Sub-observer latitude of the primary target    PSUBLON =               274.01 / Sub-obs east longitude of the primary target   PSOLLAT =               -11.26 / Sub-solar latitude of the primary target       PSOLLON =               218.54 / Sub-solar longitude of the primary target      SHDIST  =                 1.05 / Distance btw the sun and the secondary, in AU  SSCRNG  =               339.56 / Distance btw the S/C and the secondary, in km  SSPHASE =               126.29 / Angle btw the sunw. to S/C dir., from secondarySSELON  =                29.49 / Angle btw the sunw. to  secondary, from the S/CSPPCLK  =               126.29 / Positive pole clock angle of secondary target  SSUBLAT =               -18.14 / Sub-observer latitude of the secondary target  SSUBLON =               358.05 / Sub-observer longitude of the secondary target SSSOLLAT=               -11.26 / Sub-solar latitude of the secondary target     SSSOLLON=               302.79 / Sub-solar longitude of the secondary target    END                                                                                                                                                                                                                                                                                                                                                                                                                                                                                                                                                                                                                                                                                                                                                                                                                                                                                                                                                                                                                                                                                                                                                                                                                                                                                                                                                                                                                                                                                                                                                                                                                                                                                                                                                                                                                                                                                                                                                                                                                                                                                                                                                                                                                                                                                                                                                                                                                                                                                                                                                                                                                                                                                                                                                                                                                                                                                                                                                                                             \"\n"
     ]
    }
   ],
   "source": [
    "h = structures[0].data\n",
    "\n",
    "print(h)"
   ]
  },
  {
   "cell_type": "code",
   "execution_count": 4,
   "metadata": {},
   "outputs": [
    {
     "name": "stdout",
     "output_type": "stream",
     "text": [
      "b\"SIMPLE  =                    T / conforms to FITS standard                      BITPIX  =                  -32 / array data type                                NAXIS   =                    3 / number of array dimensions                     NAXIS1  =                 2048                                                  NAXIS2  =                 1088                                                  NAXIS3  =                    3                                                  EXTEND  =                    T                                                  DATE    = '2022-09-26T23:14:53.000'                                             MISSION = 'DART    '                                                            HOSTNAME= 'LICIACube'                                                           INSTRUME= 'LUKE    '                                                            APID    =                    1                                                  TARGET  = 'Dimorphos'                                                           MPHASE  = 'final   '           / DART mission phase                             IMG_UTC = '2022-09-26T23:14:53.000' / Acquisition start time in UTC             SCLKNAME= 'LCC220918-SCLK-V1.tsc'                                               READOUT =              2956.25 / Global readout time                            EXPTIME =               0.0005                                                  GAIN    =                    1 / Detector gain setting                          BINNING = 'OFF     '           / If binning is on or not                        TRUNC   = 'MSB     '                                                            RCNTTHST=                    0 / Whether thrusters were fired                   AOCWX   = 0.000515345018357038 / Rotation speed of LICIACube frame X axis       AOCWY   = 0.000202800001716241 / Rotation speed of LICIACube frame Y axis       AOCWZ   = -0.00012920500012114 / Rotation speed of LICIACube frame Z axis       DETTEMP =              -1000.0 / LUKE detector temperature                      WINXSTA =                   -1 / Column where window starts                     WINXEND =                   -1 / Column where window ends                       WINYSTA =                   -1 / Row where window starts                        WINYEND =                   -1 / Row where window ends                          CALFILEG= 'liciacube_luke_cal_gen_001.fits' / Name of general calibration file uCALFILEC= 'liciacube_luke_cal_col_001.fits' / Name of color calibration file useRADCONV =                    1 / Radiance conversion factor                     PLANE1  = 'RED     '           / Color of image plane                           PLANE2  = 'GREEN   '           / Color of image plane                           PLANE3  = 'BLUE    '           / Color of image plane                           BADMASKV=               -1E+30 / Pixel value assigned to bad pixels             MISPXVAL=                1E+32 / Value assigned to missing pixels               SATPXVAL=                1E+30 / Pixel value assigned to saturated pixels       EPHMETA = '20230328_LCC_SOC.mk' / Ephemeris metakernel to be used               ATTMETA = '20230328_LCC_SOC.mk' / Attitude metakernel to be used                CORT_UTC= '2022-09-26T23:14:52.909' / UTC time at mid-exposure time             CORTJDAT=       2459849.468669 / Julian Ephemeris Date based at mid exposure    SOCQDATA=   0.4181060798941658 / Spacecraft quaternion (q0)                     SOCQDATX=    0.818601489078523 / Spacecraft quaternion (q1)                     SOCQDATY= -0.04446067509811893 / Spacecraft quaternion (q2)                     SOCQDATZ=   0.3912827064972049 / Spacecraft quaternion (q3)                     BORE_RA =           309.993047 / Boresight right ascension                      BORE_DEC=           -20.131156 / Boresight declination                          CELN_CLK=               226.21 / Celestial north clock angle                    ECLN_CLK=               211.39 / Ecliptic north clock angle                     SUN_CLK =               124.28 / Sunward direction clock angle                  PXARCS  =                16.09 / Pixel scale in arcsec                          PXMRAD  =                 78.0 / Instantaneous field of view of a pixel         PHDIST  =                 1.05 / Distance btw sun and primary target            PSCRNG  =               852.89 / Distance btw S/C and primary target            PSPHASE =                 57.2 / Angle btw sunw. to S/C dir., from the primary  PSELON  =                122.8 / Angle btw sunw. to primary, from the S/C       PPPCLK  =                28.69 / Positive pole clock angle of the primary targetPSUBLAT =               -13.04 / Sub-observer latitude of the primary target    PSUBLON =               277.86 / Sub-obs east longitude of the primary target   PSOLLAT =               -11.26 / Sub-solar latitude of the primary target       PSOLLON =               219.24 / Sub-solar longitude of the primary target      SHDIST  =                 1.05 / Distance btw the sun and the secondary, in AU  SSCRNG  =               852.73 / Distance btw the S/C and the secondary, in km  SSPHASE =               122.87 / Angle btw the sunw. to S/C dir., from secondarySSELON  =                28.69 / Angle btw the sunw. to  secondary, from the S/CSPPCLK  =               122.87 / Positive pole clock angle of secondary target  SSUBLAT =               -13.04 / Sub-observer latitude of the secondary target  SSUBLON =                 5.04 / Sub-observer longitude of the secondary target SSSOLLAT=               -11.26 / Sub-solar latitude of the secondary target     SSSOLLON=                306.5 / Sub-solar longitude of the secondary target    END                                                                                                                                                                                                                                                                                                                                                                                                                                                                                                                                                                                                                                                                                                                                                                                                                                                                                                                                                                                                                                                                                                                                                                                                                                                                                                                                                                                                                                                                                                                                                                                                                                                                                                                                                                                                                                                                                                                                                                                                                                                                                                                                                                                                                                                                                                                                                                                                                                                                                                                                                                                                                                                                                                                                                                                                                                                                                                                                                                                             \"\n"
     ]
    }
   ],
   "source": [
    "h = structures[0].data\n",
    "\n",
    "print(h)"
   ]
  },
  {
   "cell_type": "code",
   "execution_count": 5,
   "metadata": {},
   "outputs": [],
   "source": [
    "name = '/Users/zouxd/Meeting/PDS-reviews/2023-09-15 DART/Ground/lco/data_lcoimacsraw/ut221003/ift1004c2_221003.xml'\n",
    "#name = \"/Users/zouxd/Meeting/PDS-reviews/2023-09-15 DART/Liciacube/luke_calibrated/final/liciacube_luke_l2_1664234171_00051_01.xml\""
   ]
  },
  {
   "cell_type": "code",
   "execution_count": 6,
   "metadata": {},
   "outputs": [
    {
     "name": "stdout",
     "output_type": "stream",
     "text": [
      "Processing label: /Users/zouxd/Meeting/PDS-reviews/2023-09-15 DART/Ground/lco/data_lcoimacsraw/ut221003/ift1004c2_221003.xml\n"
     ]
    },
    {
     "ename": "OSError",
     "evalue": "Unable to locate or read label file: /Users/zouxd/Meeting/PDS-reviews/2023-09-15 DART/Ground/lco/data_lcoimacsraw/ut221003/ift1004c2_221003.xml",
     "output_type": "error",
     "traceback": [
      "\u001b[0;31m---------------------------------------------------------------------------\u001b[0m",
      "\u001b[0;31mFileNotFoundError\u001b[0m                         Traceback (most recent call last)",
      "\u001b[0;32m/opt/anaconda3/lib/python3.7/site-packages/pds4_tools/reader/read_label.py\u001b[0m in \u001b[0;36mread_label\u001b[0;34m(filename, strip_extra_whitespace, enforce_default_prefixes, include_namespace_map, decode_py2)\u001b[0m\n\u001b[1;32m     57\u001b[0m     \u001b[0;32mtry\u001b[0m\u001b[0;34m:\u001b[0m\u001b[0;34m\u001b[0m\u001b[0;34m\u001b[0m\u001b[0m\n\u001b[0;32m---> 58\u001b[0;31m         \u001b[0mxml_tree\u001b[0m \u001b[0;34m=\u001b[0m \u001b[0mET\u001b[0m\u001b[0;34m.\u001b[0m\u001b[0miterparse\u001b[0m\u001b[0;34m(\u001b[0m\u001b[0mfilename\u001b[0m\u001b[0;34m,\u001b[0m \u001b[0mevents\u001b[0m\u001b[0;34m=\u001b[0m\u001b[0;34m(\u001b[0m\u001b[0;34m'start-ns'\u001b[0m\u001b[0;34m,\u001b[0m \u001b[0;34m'end'\u001b[0m\u001b[0;34m)\u001b[0m\u001b[0;34m)\u001b[0m\u001b[0;34m\u001b[0m\u001b[0;34m\u001b[0m\u001b[0m\n\u001b[0m\u001b[1;32m     59\u001b[0m     \u001b[0;32mexcept\u001b[0m \u001b[0mIOError\u001b[0m\u001b[0;34m:\u001b[0m\u001b[0;34m\u001b[0m\u001b[0;34m\u001b[0m\u001b[0m\n",
      "\u001b[0;32m/opt/anaconda3/lib/python3.7/xml/etree/ElementTree.py\u001b[0m in \u001b[0;36miterparse\u001b[0;34m(source, events, parser)\u001b[0m\n\u001b[1;32m   1242\u001b[0m     \u001b[0;32mif\u001b[0m \u001b[0;32mnot\u001b[0m \u001b[0mhasattr\u001b[0m\u001b[0;34m(\u001b[0m\u001b[0msource\u001b[0m\u001b[0;34m,\u001b[0m \u001b[0;34m\"read\"\u001b[0m\u001b[0;34m)\u001b[0m\u001b[0;34m:\u001b[0m\u001b[0;34m\u001b[0m\u001b[0;34m\u001b[0m\u001b[0m\n\u001b[0;32m-> 1243\u001b[0;31m         \u001b[0msource\u001b[0m \u001b[0;34m=\u001b[0m \u001b[0mopen\u001b[0m\u001b[0;34m(\u001b[0m\u001b[0msource\u001b[0m\u001b[0;34m,\u001b[0m \u001b[0;34m\"rb\"\u001b[0m\u001b[0;34m)\u001b[0m\u001b[0;34m\u001b[0m\u001b[0;34m\u001b[0m\u001b[0m\n\u001b[0m\u001b[1;32m   1244\u001b[0m         \u001b[0mclose_source\u001b[0m \u001b[0;34m=\u001b[0m \u001b[0;32mTrue\u001b[0m\u001b[0;34m\u001b[0m\u001b[0;34m\u001b[0m\u001b[0m\n",
      "\u001b[0;31mFileNotFoundError\u001b[0m: [Errno 2] No such file or directory: '/Users/zouxd/Meeting/PDS-reviews/2023-09-15 DART/Ground/lco/data_lcoimacsraw/ut221003/ift1004c2_221003.xml'",
      "\nDuring handling of the above exception, another exception occurred:\n",
      "\u001b[0;31mOSError\u001b[0m                                   Traceback (most recent call last)",
      "\u001b[0;32m<ipython-input-6-9375b11bc328>\u001b[0m in \u001b[0;36m<module>\u001b[0;34m\u001b[0m\n\u001b[0;32m----> 1\u001b[0;31m \u001b[0mstructures\u001b[0m \u001b[0;34m=\u001b[0m \u001b[0mpds4_tools\u001b[0m\u001b[0;34m.\u001b[0m\u001b[0mread\u001b[0m\u001b[0;34m(\u001b[0m\u001b[0mname\u001b[0m\u001b[0;34m)\u001b[0m\u001b[0;34m\u001b[0m\u001b[0;34m\u001b[0m\u001b[0m\n\u001b[0m\u001b[1;32m      2\u001b[0m \u001b[0mh\u001b[0m \u001b[0;34m=\u001b[0m \u001b[0mstructures\u001b[0m\u001b[0;34m[\u001b[0m\u001b[0;36m0\u001b[0m\u001b[0;34m]\u001b[0m\u001b[0;34m.\u001b[0m\u001b[0mdata\u001b[0m\u001b[0;34m\u001b[0m\u001b[0;34m\u001b[0m\u001b[0m\n\u001b[1;32m      3\u001b[0m \u001b[0;34m\u001b[0m\u001b[0m\n\u001b[1;32m      4\u001b[0m \u001b[0mprint\u001b[0m\u001b[0;34m(\u001b[0m\u001b[0mh\u001b[0m\u001b[0;34m)\u001b[0m\u001b[0;34m\u001b[0m\u001b[0;34m\u001b[0m\u001b[0m\n",
      "\u001b[0;32m/opt/anaconda3/lib/python3.7/site-packages/pds4_tools/reader/core.py\u001b[0m in \u001b[0;36mpds4_read\u001b[0;34m(filename, quiet, lazy_load, no_scale, decode_strings)\u001b[0m\n\u001b[1;32m    189\u001b[0m     \u001b[0mlogger\u001b[0m\u001b[0;34m.\u001b[0m\u001b[0minfo\u001b[0m\u001b[0;34m(\u001b[0m\u001b[0;34m'Processing label: '\u001b[0m \u001b[0;34m+\u001b[0m \u001b[0mfilename\u001b[0m\u001b[0;34m)\u001b[0m\u001b[0;34m\u001b[0m\u001b[0;34m\u001b[0m\u001b[0m\n\u001b[1;32m    190\u001b[0m     \u001b[0mreified_filename\u001b[0m \u001b[0;34m=\u001b[0m \u001b[0mdownload_file\u001b[0m\u001b[0;34m(\u001b[0m\u001b[0mfilename\u001b[0m\u001b[0;34m)\u001b[0m \u001b[0;32mif\u001b[0m \u001b[0mis_supported_url\u001b[0m\u001b[0;34m(\u001b[0m\u001b[0mfilename\u001b[0m\u001b[0;34m)\u001b[0m \u001b[0;32melse\u001b[0m \u001b[0mfilename\u001b[0m\u001b[0;34m\u001b[0m\u001b[0;34m\u001b[0m\u001b[0m\n\u001b[0;32m--> 191\u001b[0;31m     \u001b[0mlabel\u001b[0m \u001b[0;34m=\u001b[0m \u001b[0mLabel\u001b[0m\u001b[0;34m.\u001b[0m\u001b[0mfrom_file\u001b[0m\u001b[0;34m(\u001b[0m\u001b[0mreified_filename\u001b[0m\u001b[0;34m)\u001b[0m\u001b[0;34m\u001b[0m\u001b[0;34m\u001b[0m\u001b[0m\n\u001b[0m\u001b[1;32m    192\u001b[0m \u001b[0;34m\u001b[0m\u001b[0m\n\u001b[1;32m    193\u001b[0m     \u001b[0;31m# Read and extract all the PDS4 data structures specified in this label\u001b[0m\u001b[0;34m\u001b[0m\u001b[0;34m\u001b[0m\u001b[0;34m\u001b[0m\u001b[0m\n",
      "\u001b[0;32m/opt/anaconda3/lib/python3.7/site-packages/pds4_tools/reader/label_objects.py\u001b[0m in \u001b[0;36mfrom_file\u001b[0;34m(cls, filename, default_root)\u001b[0m\n\u001b[1;32m    155\u001b[0m         convenient_root, convenient_namespace_map = read_label(filename,\n\u001b[1;32m    156\u001b[0m                                             \u001b[0mstrip_extra_whitespace\u001b[0m\u001b[0;34m=\u001b[0m\u001b[0;32mTrue\u001b[0m\u001b[0;34m,\u001b[0m \u001b[0menforce_default_prefixes\u001b[0m\u001b[0;34m=\u001b[0m\u001b[0;32mTrue\u001b[0m\u001b[0;34m,\u001b[0m\u001b[0;34m\u001b[0m\u001b[0;34m\u001b[0m\u001b[0m\n\u001b[0;32m--> 157\u001b[0;31m                                             include_namespace_map=True, decode_py2=True)\n\u001b[0m\u001b[1;32m    158\u001b[0m \u001b[0;34m\u001b[0m\u001b[0m\n\u001b[1;32m    159\u001b[0m         unmodified_root, unmodified_namespace_map = read_label(filename,\n",
      "\u001b[0;32m/opt/anaconda3/lib/python3.7/site-packages/pds4_tools/reader/read_label.py\u001b[0m in \u001b[0;36mread_label\u001b[0;34m(filename, strip_extra_whitespace, enforce_default_prefixes, include_namespace_map, decode_py2)\u001b[0m\n\u001b[1;32m     58\u001b[0m         \u001b[0mxml_tree\u001b[0m \u001b[0;34m=\u001b[0m \u001b[0mET\u001b[0m\u001b[0;34m.\u001b[0m\u001b[0miterparse\u001b[0m\u001b[0;34m(\u001b[0m\u001b[0mfilename\u001b[0m\u001b[0;34m,\u001b[0m \u001b[0mevents\u001b[0m\u001b[0;34m=\u001b[0m\u001b[0;34m(\u001b[0m\u001b[0;34m'start-ns'\u001b[0m\u001b[0;34m,\u001b[0m \u001b[0;34m'end'\u001b[0m\u001b[0;34m)\u001b[0m\u001b[0;34m)\u001b[0m\u001b[0;34m\u001b[0m\u001b[0;34m\u001b[0m\u001b[0m\n\u001b[1;32m     59\u001b[0m     \u001b[0;32mexcept\u001b[0m \u001b[0mIOError\u001b[0m\u001b[0;34m:\u001b[0m\u001b[0;34m\u001b[0m\u001b[0;34m\u001b[0m\u001b[0m\n\u001b[0;32m---> 60\u001b[0;31m         \u001b[0;32mraise\u001b[0m \u001b[0mIOError\u001b[0m\u001b[0;34m(\u001b[0m\u001b[0;34m'Unable to locate or read label file: '\u001b[0m \u001b[0;34m+\u001b[0m \u001b[0mfilename\u001b[0m\u001b[0;34m)\u001b[0m\u001b[0;34m\u001b[0m\u001b[0;34m\u001b[0m\u001b[0m\n\u001b[0m\u001b[1;32m     61\u001b[0m \u001b[0;34m\u001b[0m\u001b[0m\n\u001b[1;32m     62\u001b[0m     \u001b[0;31m# Adjust XML tree\u001b[0m\u001b[0;34m\u001b[0m\u001b[0;34m\u001b[0m\u001b[0;34m\u001b[0m\u001b[0m\n",
      "\u001b[0;31mOSError\u001b[0m: Unable to locate or read label file: /Users/zouxd/Meeting/PDS-reviews/2023-09-15 DART/Ground/lco/data_lcoimacsraw/ut221003/ift1004c2_221003.xml"
     ]
    }
   ],
   "source": [
    "structures = pds4_tools.read(name) \n",
    "h = structures[0].data\n",
    "\n",
    "print(h)"
   ]
  },
  {
   "cell_type": "code",
   "execution_count": 14,
   "metadata": {},
   "outputs": [
    {
     "name": "stdout",
     "output_type": "stream",
     "text": [
      "Processing label: /Users/zouxd/Meeting/PDS-reviews/2023-09-15 DART/liciacube-delta/luke_calibrated/final/liciacube_luke_l2_1664234244_00417_01.xml\n",
      "Found a Header structure: HEADER_0\n",
      "Found a Array_3D_Image structure: liciacube_luke_l2_1664234244_00417_01\n",
      "Now processing a Array_3D_Image structure: liciacube_luke_l2_1664234244_00417_01\n"
     ]
    }
   ],
   "source": [
    "name1 = '/Users/zouxd/Meeting/PDS-reviews/2023-09-15 DART/liciacube-delta/luke_calibrated/final/liciacube_luke_l2_1664234244_00417_01.xml'\n",
    "#name1 ='/Users/zouxd/Meeting/PDS-reviews/2023-09-15 DART/done/Liciacube/luke_calibrated/final/liciacube_luke_l2_1664234244_00417_01.xml'\n",
    "pds4_tools.view(name1)"
   ]
  },
  {
   "cell_type": "code",
   "execution_count": 5,
   "metadata": {},
   "outputs": [
    {
     "name": "stdout",
     "output_type": "stream",
     "text": [
      "Warning: Detected IPython with module://ipykernel.pylab.backend_inline backend initialized. PDS4 Viewer requires a TK backend. \n",
      "If PDS4 Viewer will not open, follow the steps below: \n",
      "  1) Avoid %matplotlib or %gui statements prior running PDS4 Viewer. \n",
      "  2) If issue persists, use ipython --quick to skip loading config files.\n",
      "Processing label: /Users/zouxd/Meeting/PDS-reviews/2023-09-15 DART/liciacube-delta/luke_calibrated/final/liciacube_luke_l2_1664234093_00005_01.xml\n",
      "Found a Header structure: HEADER_0\n",
      "Found a Array_3D_Image structure: liciacube_luke_l2_1664234093_00005_01\n",
      "Now processing a Array_3D_Image structure: liciacube_luke_l2_1664234093_00005_01\n"
     ]
    }
   ],
   "source": [
    "pds4_tools.view(name1)"
   ]
  },
  {
   "cell_type": "code",
   "execution_count": null,
   "metadata": {},
   "outputs": [],
   "source": [
    "\n",
    "with fits.open('/Users/zouxd/Meeting/PDS-reviews/2023-09-15 DART/liciacube-delta/luke_calibrated/calibration/liciacube_luke_cal_gen_001.fits') as cal:\n",
    "    caldata=cal[0].data\n",
    "if caldata.dtype.byteorder == '>': caldata=caldata.byteswap().newbyteorder()\n",
    "    par_list_orig=np.reshape(caldata,(nparam,naxis2,naxis1,3))\n",
    "par_list_0=np.reshape(par_list_orig[:,i,j,0],-1)\n",
    "par_list_0=par_list_0[np.isfinite(par_list_0)]\n",
    "par_list_1=np.reshape(par_list_orig[:,i,j,1],-1)\n",
    "par_list_1=par_list_1[np.isfinite(par_list_1)]\n",
    "par_list_2=np.reshape(par_list_orig[:,i,j,2],-1)\n",
    "par_list_2=int(par_list_2[np.isfinite(par_list_2)])\n",
    "par_list=[par_list_0,par_list_1,par_list_2]\n",
    "tck=np.array(par_list, dtype=object)\n",
    "tckp=scipy.interpolate.PchipInterpolator.from_spline(tck)\n",
    "\n",
    "calibrated_data[i,j]=tckp(background_removed_DN[i,j])"
   ]
  },
  {
   "cell_type": "code",
   "execution_count": 2,
   "metadata": {},
   "outputs": [
    {
     "name": "stdout",
     "output_type": "stream",
     "text": [
      "Warning: Detected IPython with module://ipykernel.pylab.backend_inline backend initialized. PDS4 Viewer requires a TK backend. \n",
      "If PDS4 Viewer will not open, follow the steps below: \n",
      "  1) Avoid %matplotlib or %gui statements prior running PDS4 Viewer. \n",
      "  2) If issue persists, use ipython --quick to skip loading config files.\n",
      "Processing label: /Users/zouxd/Meeting/PDS-reviews/2023-09-15 DART/liciacube-delta/luke_calibrated/final/liciacube_luke_l2_1664234244_00417_01.xml\n",
      "Found a Header structure: HEADER_0\n",
      "Found a Array_3D_Image structure: liciacube_luke_l2_1664234244_00417_01\n",
      "Now processing a Array_3D_Image structure: liciacube_luke_l2_1664234244_00417_01\n"
     ]
    }
   ],
   "source": [
    "name1 = '/Users/zouxd/Meeting/PDS-reviews/2023-09-15 DART/liciacube-delta/luke_calibrated/final/liciacube_luke_l2_1664234244_00417_01.xml'\n",
    "#name1 ='/Users/zouxd/Meeting/PDS-reviews/2023-09-15 DART/liciacube-delta/luke_raw/final/liciacube_luke_l0_1664234244_00417_01.xml'\n",
    "\n",
    "pds4_tools.view(name1)"
   ]
  },
  {
   "cell_type": "code",
   "execution_count": null,
   "metadata": {},
   "outputs": [
    {
     "name": "stdout",
     "output_type": "stream",
     "text": [
      "Processing label: /Users/zouxd/Meeting/PDS-reviews/2023-09-15 DART/done/Liciacube/luke_raw/final/liciacube_luke_l0_1664234244_00417_01.xml\n",
      "Found a Header structure: HEADER_0\n",
      "Found a Array_2D_Image structure: liciacube_luke_l0_1664234244_00417_01\n",
      "Now processing a Array_2D_Image structure: liciacube_luke_l0_1664234244_00417_01\n"
     ]
    }
   ],
   "source": [
    "name1 ='/Users/zouxd/Meeting/PDS-reviews/2023-09-15 DART/done/Liciacube/luke_raw/final/liciacube_luke_l0_1664234244_00417_01.xml'\n",
    "\n",
    "pds4_tools.view(name1)"
   ]
  },
  {
   "cell_type": "code",
   "execution_count": null,
   "metadata": {},
   "outputs": [],
   "source": []
  }
 ],
 "metadata": {
  "kernelspec": {
   "display_name": "Python 3 (ipykernel)",
   "language": "python",
   "name": "python3"
  },
  "language_info": {
   "codemirror_mode": {
    "name": "ipython",
    "version": 3
   },
   "file_extension": ".py",
   "mimetype": "text/x-python",
   "name": "python",
   "nbconvert_exporter": "python",
   "pygments_lexer": "ipython3",
   "version": "3.9.6"
  }
 },
 "nbformat": 4,
 "nbformat_minor": 4
}
