{
 "cells": [
  {
   "cell_type": "code",
   "execution_count": 1,
   "metadata": {
    "scrolled": true
   },
   "outputs": [
    {
     "ename": "FileNotFoundError",
     "evalue": "[Errno 2] No such file or directory: '/Volumes/White8T/2022-10-18-PDS-review-NH/lorri_cob/data'",
     "output_type": "error",
     "traceback": [
      "\u001b[0;31m---------------------------------------------------------------------------\u001b[0m",
      "\u001b[0;31mFileNotFoundError\u001b[0m                         Traceback (most recent call last)",
      "\u001b[0;32m<ipython-input-1-7f1388c584e5>\u001b[0m in \u001b[0;36m<module>\u001b[0;34m\u001b[0m\n\u001b[1;32m      2\u001b[0m \u001b[0;32mimport\u001b[0m \u001b[0mnumpy\u001b[0m\u001b[0;34m\u001b[0m\u001b[0;34m\u001b[0m\u001b[0m\n\u001b[1;32m      3\u001b[0m \u001b[0mpath\u001b[0m \u001b[0;34m=\u001b[0m \u001b[0;34m'/Volumes/White8T/2022-10-18-PDS-review-NH/lorri_cob/data'\u001b[0m\u001b[0;34m\u001b[0m\u001b[0;34m\u001b[0m\u001b[0m\n\u001b[0;32m----> 4\u001b[0;31m \u001b[0mfiles\u001b[0m \u001b[0;34m=\u001b[0m \u001b[0mos\u001b[0m\u001b[0;34m.\u001b[0m\u001b[0mlistdir\u001b[0m\u001b[0;34m(\u001b[0m\u001b[0mpath\u001b[0m\u001b[0;34m)\u001b[0m\u001b[0;34m\u001b[0m\u001b[0;34m\u001b[0m\u001b[0m\n\u001b[0m\u001b[1;32m      5\u001b[0m \u001b[0mfilenames\u001b[0m \u001b[0;34m=\u001b[0m \u001b[0;34m[\u001b[0m\u001b[0mos\u001b[0m\u001b[0;34m.\u001b[0m\u001b[0mpath\u001b[0m\u001b[0;34m.\u001b[0m\u001b[0mjoin\u001b[0m\u001b[0;34m(\u001b[0m\u001b[0mpath\u001b[0m\u001b[0;34m,\u001b[0m\u001b[0mfile\u001b[0m\u001b[0;34m)\u001b[0m \u001b[0;32mfor\u001b[0m \u001b[0mfile\u001b[0m \u001b[0;32min\u001b[0m \u001b[0mfiles\u001b[0m \u001b[0;32mif\u001b[0m \u001b[0mfile\u001b[0m\u001b[0;34m.\u001b[0m\u001b[0mendswith\u001b[0m\u001b[0;34m(\u001b[0m\u001b[0;34m'.xml'\u001b[0m\u001b[0;34m)\u001b[0m\u001b[0;34m]\u001b[0m\u001b[0;34m\u001b[0m\u001b[0;34m\u001b[0m\u001b[0m\n\u001b[1;32m      6\u001b[0m \u001b[0mprint\u001b[0m\u001b[0;34m(\u001b[0m\u001b[0;34m'%d fits file in the given path.'\u001b[0m \u001b[0;34m%\u001b[0m\u001b[0;34m(\u001b[0m\u001b[0mlen\u001b[0m\u001b[0;34m(\u001b[0m\u001b[0mfilenames\u001b[0m\u001b[0;34m)\u001b[0m\u001b[0;34m)\u001b[0m\u001b[0;34m)\u001b[0m\u001b[0;34m\u001b[0m\u001b[0;34m\u001b[0m\u001b[0m\n",
      "\u001b[0;31mFileNotFoundError\u001b[0m: [Errno 2] No such file or directory: '/Volumes/White8T/2022-10-18-PDS-review-NH/lorri_cob/data'"
     ]
    }
   ],
   "source": [
    "import os\n",
    "import numpy\n",
    "#path = '/Volumes/White8T/2022-10-18-PDS-review-NH/lorri_cob/data'\n",
    "files = os.listdir(path)\n",
    "filenames = [os.path.join(path,file) for file in files if file.endswith('.xml')]\n",
    "print('%d fits file in the given path.' %(len(filenames)))\n"
   ]
  },
  {
   "cell_type": "code",
   "execution_count": 4,
   "metadata": {
    "scrolled": true
   },
   "outputs": [
    {
     "name": "stdout",
     "output_type": "stream",
     "text": [
      "60 fits file in the given path.\n"
     ]
    }
   ],
   "source": [
    "import os\n",
    "import numpy\n",
    "import glob\n",
    "filenames = glob.glob('/Users/zouxd/Meeting/PDS-reviews/2023-09-15 DART/DRACO/data_dracoddp/*o.xml')\n",
    "#filenames = glob.glob(\"/Users/zouxd/Downloads/HY2data/Mascam_Archive_2/data_raw/*edr.xml\")\n",
    "#filenames = glob.glob(\"/Users/zouxd/Downloads/HY2data/Mascam_Archive_2/data_calibrated/*rdr.xml\")\n",
    "print('%d fits file in the given path.' %(len(filenames)))"
   ]
  },
  {
   "cell_type": "code",
   "execution_count": 5,
   "metadata": {
    "scrolled": true
   },
   "outputs": [
    {
     "name": "stdout",
     "output_type": "stream",
     "text": [
      "['/Users/zouxd/Meeting/PDS-reviews/2023-09-15 DART/DRACO/data_dracoddp/dart_0401930007_25392_01_geo.xml', '/Users/zouxd/Meeting/PDS-reviews/2023-09-15 DART/DRACO/data_dracoddp/dart_0401930009_21678_01_geo.xml', '/Users/zouxd/Meeting/PDS-reviews/2023-09-15 DART/DRACO/data_dracoddp/dart_0401930038_15976_01_geo.xml', '/Users/zouxd/Meeting/PDS-reviews/2023-09-15 DART/DRACO/data_dracoddp/dart_0401930042_08549_01_geo.xml', '/Users/zouxd/Meeting/PDS-reviews/2023-09-15 DART/DRACO/data_dracoddp/dart_0401930027_36400_01_geo.xml', '/Users/zouxd/Meeting/PDS-reviews/2023-09-15 DART/DRACO/data_dracoddp/dart_0401930032_27116_01_geo.xml', '/Users/zouxd/Meeting/PDS-reviews/2023-09-15 DART/DRACO/data_dracoddp/dart_0401930020_49397_01_geo.xml', '/Users/zouxd/Meeting/PDS-reviews/2023-09-15 DART/DRACO/data_dracoddp/dart_0401930039_14119_01_geo.xml', '/Users/zouxd/Meeting/PDS-reviews/2023-09-15 DART/DRACO/data_dracoddp/dart_0401930030_30830_01_geo.xml', '/Users/zouxd/Meeting/PDS-reviews/2023-09-15 DART/DRACO/data_dracoddp/dart_0401929890_01914_01_geo.xml', '/Users/zouxd/Meeting/PDS-reviews/2023-09-15 DART/DRACO/data_dracoddp/dart_0401930004_30962_01_geo.xml', '/Users/zouxd/Meeting/PDS-reviews/2023-09-15 DART/DRACO/data_dracoddp/dart_0401930046_01122_01_geo.xml', '/Users/zouxd/Meeting/PDS-reviews/2023-09-15 DART/DRACO/data_dracoddp/dart_0401929913_07352_01_geo.xml', '/Users/zouxd/Meeting/PDS-reviews/2023-09-15 DART/DRACO/data_dracoddp/dart_0401930049_43695_01_geo.xml', '/Users/zouxd/Meeting/PDS-reviews/2023-09-15 DART/DRACO/data_dracoddp/dart_0401930023_43827_01_geo.xml', '/Users/zouxd/Meeting/PDS-reviews/2023-09-15 DART/DRACO/data_dracoddp/dart_0401930044_04835_01_geo.xml', '/Users/zouxd/Meeting/PDS-reviews/2023-09-15 DART/DRACO/data_dracoddp/dart_0401930017_06824_01_geo.xml', '/Users/zouxd/Meeting/PDS-reviews/2023-09-15 DART/DRACO/data_dracoddp/dart_0401930048_45552_01_geo.xml', '/Users/zouxd/Meeting/PDS-reviews/2023-09-15 DART/DRACO/data_dracoddp/dart_0401930010_19821_01_geo.xml', '/Users/zouxd/Meeting/PDS-reviews/2023-09-15 DART/DRACO/data_dracoddp/dart_0401929860_09473_01_geo.xml', '/Users/zouxd/Meeting/PDS-reviews/2023-09-15 DART/DRACO/data_dracoddp/dart_0401930006_27248_01_geo.xml', '/Users/zouxd/Meeting/PDS-reviews/2023-09-15 DART/DRACO/data_dracoddp/dart_0401929906_20349_01_geo.xml', '/Users/zouxd/Meeting/PDS-reviews/2023-09-15 DART/DRACO/data_dracoddp/dart_0401930036_19689_01_geo.xml', '/Users/zouxd/Meeting/PDS-reviews/2023-09-15 DART/DRACO/data_dracoddp/dart_0401929957_21942_01_geo.xml', '/Users/zouxd/Meeting/PDS-reviews/2023-09-15 DART/DRACO/data_dracoddp/dart_0401930014_12394_01_geo.xml', '/Users/zouxd/Meeting/PDS-reviews/2023-09-15 DART/DRACO/data_dracoddp/dart_0401930024_41970_01_geo.xml', '/Users/zouxd/Meeting/PDS-reviews/2023-09-15 DART/DRACO/data_dracoddp/dart_0401930015_10537_01_geo.xml', '/Users/zouxd/Meeting/PDS-reviews/2023-09-15 DART/DRACO/data_dracoddp/dart_0401929919_44355_01_geo.xml', '/Users/zouxd/Meeting/PDS-reviews/2023-09-15 DART/DRACO/data_dracoddp/dart_0401930018_04967_01_geo.xml', '/Users/zouxd/Meeting/PDS-reviews/2023-09-15 DART/DRACO/data_dracoddp/dart_0401929869_40905_01_geo.xml', '/Users/zouxd/Meeting/PDS-reviews/2023-09-15 DART/DRACO/data_dracoddp/dart_0401929901_29633_01_geo.xml', '/Users/zouxd/Meeting/PDS-reviews/2023-09-15 DART/DRACO/data_dracoddp/dart_0401929903_25919_01_geo.xml', '/Users/zouxd/Meeting/PDS-reviews/2023-09-15 DART/DRACO/data_dracoddp/dart_0401929842_42894_01_geo.xml', '/Users/zouxd/Meeting/PDS-reviews/2023-09-15 DART/DRACO/data_dracoddp/dart_0401930022_45684_01_geo.xml', '/Users/zouxd/Meeting/PDS-reviews/2023-09-15 DART/DRACO/data_dracoddp/dart_0401930003_32818_01_geo.xml', '/Users/zouxd/Meeting/PDS-reviews/2023-09-15 DART/DRACO/data_dracoddp/dart_0401930028_34543_01_geo.xml', '/Users/zouxd/Meeting/PDS-reviews/2023-09-15 DART/DRACO/data_dracoddp/dart_0401930043_06692_01_geo.xml', '/Users/zouxd/Meeting/PDS-reviews/2023-09-15 DART/DRACO/data_dracoddp/dart_0401929836_05891_01_geo.xml', '/Users/zouxd/Meeting/PDS-reviews/2023-09-15 DART/DRACO/data_dracoddp/dart_0401930045_02979_01_geo.xml', '/Users/zouxd/Meeting/PDS-reviews/2023-09-15 DART/DRACO/data_dracoddp/dart_0401930012_16108_01_geo.xml', '/Users/zouxd/Meeting/PDS-reviews/2023-09-15 DART/DRACO/data_dracoddp/dart_0401930031_28973_01_geo.xml', '/Users/zouxd/Meeting/PDS-reviews/2023-09-15 DART/DRACO/data_dracoddp/dart_0401930008_23535_01_geo.xml', '/Users/zouxd/Meeting/PDS-reviews/2023-09-15 DART/DRACO/data_dracoddp/dart_0401930037_17832_01_geo.xml', '/Users/zouxd/Meeting/PDS-reviews/2023-09-15 DART/DRACO/data_dracoddp/dart_0401929893_44487_01_geo.xml', '/Users/zouxd/Meeting/PDS-reviews/2023-09-15 DART/DRACO/data_dracoddp/dart_0401929926_31358_01_geo.xml', '/Users/zouxd/Meeting/PDS-reviews/2023-09-15 DART/DRACO/data_dracoddp/dart_0401930034_23403_01_geo.xml', '/Users/zouxd/Meeting/PDS-reviews/2023-09-15 DART/DRACO/data_dracoddp/dart_0401930035_21546_01_geo.xml', '/Users/zouxd/Meeting/PDS-reviews/2023-09-15 DART/DRACO/data_dracoddp/dart_0401929937_10933_01_geo.xml', '/Users/zouxd/Meeting/PDS-reviews/2023-09-15 DART/DRACO/data_dracoddp/dart_0401930040_12262_01_geo.xml', '/Users/zouxd/Meeting/PDS-reviews/2023-09-15 DART/DRACO/data_dracoddp/dart_0401929933_18360_01_geo.xml', '/Users/zouxd/Meeting/PDS-reviews/2023-09-15 DART/DRACO/data_dracoddp/dart_0401930019_03110_01_geo.xml', '/Users/zouxd/Meeting/PDS-reviews/2023-09-15 DART/DRACO/data_dracoddp/dart_0401930016_08681_01_geo.xml', '/Users/zouxd/Meeting/PDS-reviews/2023-09-15 DART/DRACO/data_dracoddp/dart_0401929828_20745_01_geo.xml', '/Users/zouxd/Meeting/PDS-reviews/2023-09-15 DART/DRACO/data_dracoddp/dart_0401930021_47540_01_geo.xml', '/Users/zouxd/Meeting/PDS-reviews/2023-09-15 DART/DRACO/data_dracoddp/dart_0401930029_32686_01_geo.xml', '/Users/zouxd/Meeting/PDS-reviews/2023-09-15 DART/DRACO/data_dracoddp/dart_0401930011_17964_01_geo.xml', '/Users/zouxd/Meeting/PDS-reviews/2023-09-15 DART/DRACO/data_dracoddp/dart_0401929940_05363_01_geo.xml', '/Users/zouxd/Meeting/PDS-reviews/2023-09-15 DART/DRACO/data_dracoddp/dart_0401930046_49265_01_geo.xml', '/Users/zouxd/Meeting/PDS-reviews/2023-09-15 DART/DRACO/data_dracoddp/dart_0401929856_16899_01_geo.xml', '/Users/zouxd/Meeting/PDS-reviews/2023-09-15 DART/DRACO/data_dracoddp/dart_0401930025_40113_01_geo.xml']\n"
     ]
    }
   ],
   "source": [
    "print(filenames)"
   ]
  },
  {
   "cell_type": "code",
   "execution_count": 6,
   "metadata": {},
   "outputs": [],
   "source": [
    "from astropy.io import fits\n",
    "import matplotlib.pyplot as plt"
   ]
  },
  {
   "cell_type": "code",
   "execution_count": 2,
   "metadata": {
    "scrolled": true
   },
   "outputs": [
    {
     "ename": "NameError",
     "evalue": "name 'filenames' is not defined",
     "output_type": "error",
     "traceback": [
      "\u001b[0;31m---------------------------------------------------------------------------\u001b[0m",
      "\u001b[0;31mNameError\u001b[0m                                 Traceback (most recent call last)",
      "\u001b[0;32m<ipython-input-2-ebd6487d8b2a>\u001b[0m in \u001b[0;36m<module>\u001b[0;34m\u001b[0m\n\u001b[1;32m      1\u001b[0m \u001b[0;32mimport\u001b[0m \u001b[0mpds4_tools\u001b[0m\u001b[0;34m\u001b[0m\u001b[0;34m\u001b[0m\u001b[0m\n\u001b[0;32m----> 2\u001b[0;31m \u001b[0;32mfor\u001b[0m \u001b[0mname\u001b[0m \u001b[0;32min\u001b[0m \u001b[0mfilenames\u001b[0m\u001b[0;34m:\u001b[0m\u001b[0;34m\u001b[0m\u001b[0;34m\u001b[0m\u001b[0m\n\u001b[0m\u001b[1;32m      3\u001b[0m     \u001b[0mstructures\u001b[0m \u001b[0;34m=\u001b[0m \u001b[0mpds4_tools\u001b[0m\u001b[0;34m.\u001b[0m\u001b[0mread\u001b[0m\u001b[0;34m(\u001b[0m\u001b[0mname\u001b[0m\u001b[0;34m)\u001b[0m\u001b[0;34m\u001b[0m\u001b[0;34m\u001b[0m\u001b[0m\n\u001b[1;32m      4\u001b[0m     \u001b[0mimage\u001b[0m \u001b[0;34m=\u001b[0m \u001b[0mstructures\u001b[0m\u001b[0;34m[\u001b[0m\u001b[0;36m1\u001b[0m\u001b[0;34m]\u001b[0m\u001b[0;34m.\u001b[0m\u001b[0mdata\u001b[0m\u001b[0;34m\u001b[0m\u001b[0;34m\u001b[0m\u001b[0m\n\u001b[1;32m      5\u001b[0m     \u001b[0mplt\u001b[0m\u001b[0;34m.\u001b[0m\u001b[0mimshow\u001b[0m\u001b[0;34m(\u001b[0m\u001b[0mimage\u001b[0m\u001b[0;34m,\u001b[0m \u001b[0mcmap\u001b[0m \u001b[0;34m=\u001b[0m \u001b[0;34m'gray'\u001b[0m\u001b[0;34m)\u001b[0m\u001b[0;34m\u001b[0m\u001b[0;34m\u001b[0m\u001b[0m\n",
      "\u001b[0;31mNameError\u001b[0m: name 'filenames' is not defined"
     ]
    }
   ],
   "source": [
    "import pds4_tools\n",
    "for name in filenames:\n",
    "    structures = pds4_tools.read(name) \n",
    "    image = structures[1].data\n",
    "    plt.imshow(image, cmap = 'gray')\n",
    "    fname = name+'.png'\n",
    "    plt.savefig(fname, dpi = None, facecolor = 'w', orientation = 'portrait', format = 'png')"
   ]
  },
  {
   "cell_type": "code",
   "execution_count": 9,
   "metadata": {},
   "outputs": [
    {
     "name": "stdout",
     "output_type": "stream",
     "text": [
      "Processing label: /Users/zouxd/Meeting/PDS-reviews/2023-1-13/Mascam_Archive_2/data_raw/mcam_1086259638_119_00203_n_edr.xml\n",
      "Now processing a Header structure: VICAR_Header\n",
      "Now processing a Array_2D_Image structure: mcam_1086259638_119_00203_n_edr\n"
     ]
    }
   ],
   "source": [
    "data0 = pds4_tools.read('/Users/zouxd/Meeting/PDS-reviews/2023-1-13/Mascam_Archive_2/data_raw/mcam_1086259638_119_00203_n_edr.xml') \n"
   ]
  },
  {
   "cell_type": "code",
   "execution_count": 12,
   "metadata": {},
   "outputs": [
    {
     "name": "stdout",
     "output_type": "stream",
     "text": [
      "0   Header          'VICAR_Header'                     VICAR2\n",
      "1   Array_2D_Image  'mcam_1086259638_119_00203_n_edr'  2 axes, 1024 x 1024\n"
     ]
    }
   ],
   "source": [
    "data0.info()\n"
   ]
  },
  {
   "cell_type": "code",
   "execution_count": 16,
   "metadata": {},
   "outputs": [
    {
     "name": "stdout",
     "output_type": "stream",
     "text": [
      "b\"LBLSIZE=2048            FORMAT='HALF'  TYPE='IMAGE'  BUFSIZ=20480  DIM=3  EOL=0  RECSIZE=2048  ORG='BSQ'  NL=1024  NS=1024  NB=1  N1=1024  N2=1024  N3=1  N4=0  NBB=0  NLB=0  HOST='X86-64-LINX'  INTFMT='LOW'  REALFMT='RIEEE'  BHOST='VAX-VMS'  BINTFMT='LOW'  BREALFMT='VAX'  BLTYPE=''  COMPRESS='NONE'  EOCI1=0  EOCI2=0  PROPERTY='FILE'  SOURCE_FILE_NAME='39GID119_16.rec'  GROUP_ID=119  PROCESSING_LEVEL_ID=1  ADJU_ID=1086259119  PROPERTY='ILLUMINATION'  LOCAL_HOUR_ANGLE=204.537  LOCAL_TIME='13:38:09'  SOLAR_AZIMUTH=321.783  SOLAR_ELEVATION=57.618  PROPERTY='M94_ORBIT'  SPACECRAFT_CLOCK_START_COUNT='1086259119'  SPACECRAFT_CLOCK_STOP_COUNT='1086259638'  START_TIME='2018-10-03T02:12:25.173'  IMAGE_TIME='2018-10-03T02:12:25.183'  STOP_TIME='2018-10-03T02:20:12.406'  PROPERTY='M94_CAMERAS'  SAMPLE_FIRST_PIXEL=1  SAMPLE_LAST_PIXEL=1024  LINE_FIRST_PIXEL=1  LINE_LAST_PIXEL=1024  EXPOSURE_DURATION=20.311  EXPOSURE_DURATION__UNIT='ms'  EXPOSURE_FPGA=95  SAMPLE_BITS=16  INST_CMPRS_MODE=16  INST_CMPRS_IBR='IBR_16'  ACTIVE_LED='NONE'  PROPERTY='M94_INSTRUMENT'  MISSION_NAME='HAYABUSA2'  INSTRUMENT_HOST_NAME='HAYABUSA2_MASCOT'  INSTRUMENT_HOST_ID='HAYABUSA2_MASCOT'  INSTRUMENT_NAME='HAYABUSA2_MASCOT_CAM'  INSTRUMENT_ID='MASCAM'  INSTRUMENT_VERSION_ID='FM'  TEMPERATURE_C=13.91  TEMPERATURE_FPGA=8952  TEMPERATURE_TIME='2018-10-03T02:12:27.185'  TEMPERATURE_SCLK='1086259215'  PROPERTY='MAP'  TARGET_NAME='RYUGU'  TASK='TASK'  USER='mexsyst'  DAT_TIM='Thu Oct 18 10:41:40 2018'  \\x00\\x00\\x00\\x00\\x00\\x00\\x00\\x00\\x00\\x00\\x00\\x00\\x00\\x00\\x00\\x00\\x00\\x00\\x00\\x00\\x00\\x00\\x00\\x00\\x00\\x00\\x00\\x00\\x00\\x00\\x00\\x00\\x00\\x00\\x00\\x00\\x00\\x00\\x00\\x00\\x00\\x00\\x00\\x00\\x00\\x00\\x00\\x00\\x00\\x00\\x00\\x00\\x00\\x00\\x00\\x00\\x00\\x00\\x00\\x00\\x00\\x00\\x00\\x00\\x00\\x00\\x00\\x00\\x00\\x00\\x00\\x00\\x00\\x00\\x00\\x00\\x00\\x00\\x00\\x00\\x00\\x00\\x00\\x00\\x00\\x00\\x00\\x00\\x00\\x00\\x00\\x00\\x00\\x00\\x00\\x00\\x00\\x00\\x00\\x00\\x00\\x00\\x00\\x00\\x00\\x00\\x00\\x00\\x00\\x00\\x00\\x00\\x00\\x00\\x00\\x00\\x00\\x00\\x00\\x00\\x00\\x00\\x00\\x00\\x00\\x00\\x00\\x00\\x00\\x00\\x00\\x00\\x00\\x00\\x00\\x00\\x00\\x00\\x00\\x00\\x00\\x00\\x00\\x00\\x00\\x00\\x00\\x00\\x00\\x00\\x00\\x00\\x00\\x00\\x00\\x00\\x00\\x00\\x00\\x00\\x00\\x00\\x00\\x00\\x00\\x00\\x00\\x00\\x00\\x00\\x00\\x00\\x00\\x00\\x00\\x00\\x00\\x00\\x00\\x00\\x00\\x00\\x00\\x00\\x00\\x00\\x00\\x00\\x00\\x00\\x00\\x00\\x00\\x00\\x00\\x00\\x00\\x00\\x00\\x00\\x00\\x00\\x00\\x00\\x00\\x00\\x00\\x00\\x00\\x00\\x00\\x00\\x00\\x00\\x00\\x00\\x00\\x00\\x00\\x00\\x00\\x00\\x00\\x00\\x00\\x00\\x00\\x00\\x00\\x00\\x00\\x00\\x00\\x00\\x00\\x00\\x00\\x00\\x00\\x00\\x00\\x00\\x00\\x00\\x00\\x00\\x00\\x00\\x00\\x00\\x00\\x00\\x00\\x00\\x00\\x00\\x00\\x00\\x00\\x00\\x00\\x00\\x00\\x00\\x00\\x00\\x00\\x00\\x00\\x00\\x00\\x00\\x00\\x00\\x00\\x00\\x00\\x00\\x00\\x00\\x00\\x00\\x00\\x00\\x00\\x00\\x00\\x00\\x00\\x00\\x00\\x00\\x00\\x00\\x00\\x00\\x00\\x00\\x00\\x00\\x00\\x00\\x00\\x00\\x00\\x00\\x00\\x00\\x00\\x00\\x00\\x00\\x00\\x00\\x00\\x00\\x00\\x00\\x00\\x00\\x00\\x00\\x00\\x00\\x00\\x00\\x00\\x00\\x00\\x00\\x00\\x00\\x00\\x00\\x00\\x00\\x00\\x00\\x00\\x00\\x00\\x00\\x00\\x00\\x00\\x00\\x00\\x00\\x00\\x00\\x00\\x00\\x00\\x00\\x00\\x00\\x00\\x00\\x00\\x00\\x00\\x00\\x00\\x00\\x00\\x00\\x00\\x00\\x00\\x00\\x00\\x00\\x00\\x00\\x00\\x00\\x00\\x00\\x00\\x00\\x00\\x00\\x00\\x00\\x00\\x00\\x00\\x00\\x00\\x00\\x00\\x00\\x00\\x00\\x00\\x00\\x00\\x00\\x00\\x00\\x00\\x00\\x00\\x00\\x00\\x00\\x00\\x00\\x00\\x00\\x00\\x00\\x00\\x00\\x00\\x00\\x00\\x00\\x00\\x00\\x00\\x00\\x00\\x00\\x00\\x00\\x00\\x00\\x00\\x00\\x00\\x00\\x00\\x00\\x00\\x00\\x00\\x00\\x00\\x00\\x00\\x00\\x00\\x00\\x00\\x00\\x00\\x00\\x00\\x00\\x00\\x00\\x00\\x00\\x00\\x00\\x00\\x00\\x00\\x00\\x00\\x00\\x00\\x00\\x00\\x00\\x00\\x00\\x00\\x00\\x00\\x00\\x00\\x00\\x00\\x00\\x00\\x00\\x00\\x00\\x00\\x00\\x00\\x00\\x00\\x00\\x00\\x00\\x00\\x00\\x00\\x00\\x00\\x00\\x00\\x00\\x00\\x00\\x00\\x00\\x00\\x00\\x00\\x00\\x00\\x00\\x00\\x00\\x00\\x00\\x00\\x00\\x00\\x00\\x00\\x00\\x00\\x00\\x00\\x00\\x00\\x00\\x00\\x00\\x00\\x00\\x00\\x00\\x00\\x00\\x00\\x00\\x00\\x00\\x00\\x00\\x00\\x00\\x00\\x00\\x00\\x00\\x00\\x00\\x00\\x00\\x00\\x00\\x00\\x00\\x00\\x00\\x00\\x00\\x00\\x00\\x00\\x00\\x00\\x00\\x00\\x00\\x00\\x00\\x00\\x00\"\n"
     ]
    }
   ],
   "source": [
    "print(data0[0].data)"
   ]
  },
  {
   "cell_type": "code",
   "execution_count": 1,
   "metadata": {},
   "outputs": [
    {
     "ename": "NameError",
     "evalue": "name 'pds4_tools' is not defined",
     "output_type": "error",
     "traceback": [
      "\u001b[0;31m---------------------------------------------------------------------------\u001b[0m",
      "\u001b[0;31mNameError\u001b[0m                                 Traceback (most recent call last)",
      "\u001b[0;32m<ipython-input-1-48f2bf13f62f>\u001b[0m in \u001b[0;36m<module>\u001b[0;34m\u001b[0m\n\u001b[1;32m      1\u001b[0m \u001b[0;31m#raw\u001b[0m\u001b[0;34m\u001b[0m\u001b[0;34m\u001b[0m\u001b[0;34m\u001b[0m\u001b[0m\n\u001b[0;32m----> 2\u001b[0;31m \u001b[0mpds4_tools\u001b[0m\u001b[0;34m.\u001b[0m\u001b[0mview\u001b[0m\u001b[0;34m(\u001b[0m\u001b[0;34m'/Users/zouxd/Meeting/PDS-reviews/2023-09-15 DART/done/Liciacube/luke_raw/final/liciacube_luke_l0_1664234195_00001_01.xml'\u001b[0m\u001b[0;34m)\u001b[0m\u001b[0;34m\u001b[0m\u001b[0;34m\u001b[0m\u001b[0m\n\u001b[0m",
      "\u001b[0;31mNameError\u001b[0m: name 'pds4_tools' is not defined"
     ]
    }
   ],
   "source": [
    "#raw\n",
    "pds4_tools.view('/Users/zouxd/Meeting/PDS-reviews/2023-09-15 DART/done/Liciacube/luke_raw/final/liciacube_luke_l0_1664234195_00001_01.xml')"
   ]
  },
  {
   "cell_type": "code",
   "execution_count": 3,
   "metadata": {
    "scrolled": true
   },
   "outputs": [
    {
     "name": "stdout",
     "output_type": "stream",
     "text": [
      "Warning: Detected IPython with module://ipykernel.pylab.backend_inline backend initialized. PDS4 Viewer requires a TK backend. \n",
      "If PDS4 Viewer will not open, follow the steps below: \n",
      "  1) Avoid %matplotlib or %gui statements prior running PDS4 Viewer. \n",
      "  2) If issue persists, use ipython --quick to skip loading config files.\n",
      "Processing label: /Users/zouxd/Meeting/PDS-reviews/2023-1-13/Mascam_Archive_2/data_calibrated/mcam_1086259638_119_00203_n_rdr.xml\n",
      "Found a Header structure: VICAR_Header\n",
      "Found a Array_2D_Image structure: mcam_1086259638_119_00203_n_rdr\n",
      "Now processing a Array_2D_Image structure: mcam_1086259638_119_00203_n_rdr\n"
     ]
    }
   ],
   "source": [
    "#calibrated\n",
    "pds4_tools.view('/Users/zouxd/Meeting/PDS-reviews/2023-1-13/Mascam_Archive_2/data_calibrated/mcam_1086259638_119_00203_n_rdr.xml')"
   ]
  },
  {
   "cell_type": "code",
   "execution_count": 19,
   "metadata": {},
   "outputs": [
    {
     "name": "stdout",
     "output_type": "stream",
     "text": [
      "Processing label: /Users/zouxd/Meeting/PDS-reviews/2023-1-13/Mascam_Archive_2/data_raw/mcam_1087609453_755_00002_n_edr.xml\n",
      "Found a Header structure: VICAR_Header\n",
      "Found a Array_2D_Image structure: mcam_1087609453_755_00002_n_edr\n",
      "Now processing a Array_2D_Image structure: mcam_1087609453_755_00002_n_edr\n"
     ]
    }
   ],
   "source": [
    "#bias\n",
    "pds4_tools.view('/Users/zouxd/Meeting/PDS-reviews/2023-1-13/Mascam_Archive_2/data_raw/mcam_1087609453_755_00002_n_edr.xml')"
   ]
  },
  {
   "cell_type": "code",
   "execution_count": null,
   "metadata": {},
   "outputs": [],
   "source": [
    "#dark current\n",
    "pds4_tools.view('')"
   ]
  },
  {
   "cell_type": "code",
   "execution_count": 50,
   "metadata": {},
   "outputs": [
    {
     "ename": "NameError",
     "evalue": "name 'shape' is not defined",
     "output_type": "error",
     "traceback": [
      "\u001b[0;31m---------------------------------------------------------------------------\u001b[0m",
      "\u001b[0;31mNameError\u001b[0m                                 Traceback (most recent call last)",
      "\u001b[0;32m<ipython-input-50-7ee59f60f979>\u001b[0m in \u001b[0;36m<module>\u001b[0;34m\u001b[0m\n\u001b[0;32m----> 1\u001b[0;31m \u001b[0mshape\u001b[0m\u001b[0;34m(\u001b[0m\u001b[0mdatax\u001b[0m\u001b[0;34m[\u001b[0m\u001b[0;36m4\u001b[0m\u001b[0;34m]\u001b[0m\u001b[0;34m.\u001b[0m\u001b[0mdata\u001b[0m\u001b[0;34m)\u001b[0m\u001b[0;34m\u001b[0m\u001b[0;34m\u001b[0m\u001b[0m\n\u001b[0m",
      "\u001b[0;31mNameError\u001b[0m: name 'shape' is not defined"
     ]
    }
   ],
   "source": [
    "for name in filenames:\n",
    "    datax = fits.open(name)\n",
    "                                #datax.info()\n",
    "    img = datax[0].data\n",
    "    plt.imshow(img,cmap = 'gray')\n",
    "    fname = name+'.png'\n",
    "    plt.savefig(fname, dpi = None, facecolor = 'w', orientation = 'portrait', format = 'png')\n",
    "    "
   ]
  },
  {
   "cell_type": "code",
   "execution_count": 8,
   "metadata": {},
   "outputs": [
    {
     "name": "stdout",
     "output_type": "stream",
     "text": [
      "Processing label: /Users/zouxd/Downloads/HY2data/Mascam_Archive_2/calibration/mascot_mascam_blue_over_green.xml\n",
      "Now processing a Header structure: vicar_header\n",
      "Now processing a Array_2D_Image structure: mascot_mascam_blue_over_green\n",
      "0   Header          'vicar_header'                   VICAR2\n",
      "1   Array_2D_Image  'mascot_mascam_blue_over_green'  2 axes, 1024 x 1024\n"
     ]
    },
    {
     "data": {
      "text/plain": [
       "<ArrayStructure 'mascot_mascam_blue_over_green' at 0x7f9d39842050>"
      ]
     },
     "execution_count": 8,
     "metadata": {},
     "output_type": "execute_result"
    }
   ],
   "source": [
    "structures = pds4_tools.read('/Users/zouxd/Downloads/HY2data/Mascam_Archive_2/calibration/mascot_mascam_blue_over_green.xml')\n",
    "structures.info()\n",
    "structures[1]"
   ]
  },
  {
   "cell_type": "code",
   "execution_count": 1,
   "metadata": {},
   "outputs": [
    {
     "name": "stdout",
     "output_type": "stream",
     "text": [
      "Processing label: /Users/zouxd/Meeting/PDS-reviews/2023-1-13/Feb08/Mascam_Archive-230202/Mascam_Archive/calibration/mascot_mascam_flatfield_fm.xml\n",
      "Found a Header structure: vicar_header\n",
      "Found a Array_2D_Image structure: mascot_mascam_flatfield_fm\n",
      "Now processing a Array_2D_Image structure: mascot_mascam_flatfield_fm\n"
     ]
    }
   ],
   "source": [
    "import pds4_tools\n",
    "\n",
    "pds4_tools.view('/Users/zouxd/Meeting/PDS-reviews/2023-1-13/Feb08/Mascam_Archive-230202/Mascam_Archive/calibration/mascot_mascam_flatfield_fm.xml') \n"
   ]
  },
  {
   "cell_type": "code",
   "execution_count": 15,
   "metadata": {},
   "outputs": [
    {
     "name": "stdout",
     "output_type": "stream",
     "text": [
      "Processing label: /Users/zouxd/Meeting/PDS-reviews/2023-1-13/Feb08/Mascam_Archive-230202/Mascam_Archive/data_raw/Descent/mcam_1086259638_119_00203_n_edr.xml\n",
      "Now processing a Header structure: VICAR_Header\n",
      "Now processing a Array_2D_Image structure: mcam_1086259638_119_00203_n_edr\n",
      "b\"LBLSIZE=2048            FORMAT='HALF'  TYPE='IMAGE'  BUFSIZ=20480  DIM=3  EOL=0  RECSIZE=2048  ORG='BSQ'  NL=1024  NS=1024  NB=1  N1=1024  N2=1024  N3=1  N4=0  NBB=0  NLB=0  HOST='X86-64-LINX'  INTFMT='LOW'  REALFMT='RIEEE'  BHOST='VAX-VMS'  BINTFMT='LOW'  BREALFMT='VAX'  BLTYPE=''  COMPRESS='NONE'  EOCI1=0  EOCI2=0  PROPERTY='FILE'  SOURCE_FILE_NAME='39GID119_16.rec'  GROUP_ID=119  PROCESSING_LEVEL_ID=1  ADJU_ID=1086259119  PROPERTY='ILLUMINATION'  LOCAL_HOUR_ANGLE=204.537  LOCAL_TIME='13:38:09'  SOLAR_AZIMUTH=321.783  SOLAR_ELEVATION=57.618  PROPERTY='M94_ORBIT'  SPACECRAFT_CLOCK_START_COUNT='1086259119'  SPACECRAFT_CLOCK_STOP_COUNT='1086259638'  START_TIME='2018-10-03T02:12:25.173'  IMAGE_TIME='2018-10-03T02:12:25.183'  STOP_TIME='2018-10-03T02:20:12.406'  PROPERTY='M94_CAMERAS'  SAMPLE_FIRST_PIXEL=1  SAMPLE_LAST_PIXEL=1024  LINE_FIRST_PIXEL=1  LINE_LAST_PIXEL=1024  EXPOSURE_DURATION=20.311  EXPOSURE_DURATION__UNIT='ms'  EXPOSURE_FPGA=95  SAMPLE_BITS=16  INST_CMPRS_MODE=16  INST_CMPRS_IBR='IBR_16'  ACTIVE_LED='NONE'  PROPERTY='M94_INSTRUMENT'  MISSION_NAME='HAYABUSA2'  INSTRUMENT_HOST_NAME='HAYABUSA2_MASCOT'  INSTRUMENT_HOST_ID='HAYABUSA2_MASCOT'  INSTRUMENT_NAME='HAYABUSA2_MASCOT_CAM'  INSTRUMENT_ID='MASCAM'  INSTRUMENT_VERSION_ID='FM'  TEMPERATURE_C=13.91  TEMPERATURE_FPGA=8952  TEMPERATURE_TIME='2018-10-03T02:12:27.185'  TEMPERATURE_SCLK='1086259215'  PROPERTY='MAP'  TARGET_NAME='RYUGU'  TASK='TASK'  USER='mexsyst'  DAT_TIM='Thu Oct 18 10:41:40 2018'  \\x00\\x00\\x00\\x00\\x00\\x00\\x00\\x00\\x00\\x00\\x00\\x00\\x00\\x00\\x00\\x00\\x00\\x00\\x00\\x00\\x00\\x00\\x00\\x00\\x00\\x00\\x00\\x00\\x00\\x00\\x00\\x00\\x00\\x00\\x00\\x00\\x00\\x00\\x00\\x00\\x00\\x00\\x00\\x00\\x00\\x00\\x00\\x00\\x00\\x00\\x00\\x00\\x00\\x00\\x00\\x00\\x00\\x00\\x00\\x00\\x00\\x00\\x00\\x00\\x00\\x00\\x00\\x00\\x00\\x00\\x00\\x00\\x00\\x00\\x00\\x00\\x00\\x00\\x00\\x00\\x00\\x00\\x00\\x00\\x00\\x00\\x00\\x00\\x00\\x00\\x00\\x00\\x00\\x00\\x00\\x00\\x00\\x00\\x00\\x00\\x00\\x00\\x00\\x00\\x00\\x00\\x00\\x00\\x00\\x00\\x00\\x00\\x00\\x00\\x00\\x00\\x00\\x00\\x00\\x00\\x00\\x00\\x00\\x00\\x00\\x00\\x00\\x00\\x00\\x00\\x00\\x00\\x00\\x00\\x00\\x00\\x00\\x00\\x00\\x00\\x00\\x00\\x00\\x00\\x00\\x00\\x00\\x00\\x00\\x00\\x00\\x00\\x00\\x00\\x00\\x00\\x00\\x00\\x00\\x00\\x00\\x00\\x00\\x00\\x00\\x00\\x00\\x00\\x00\\x00\\x00\\x00\\x00\\x00\\x00\\x00\\x00\\x00\\x00\\x00\\x00\\x00\\x00\\x00\\x00\\x00\\x00\\x00\\x00\\x00\\x00\\x00\\x00\\x00\\x00\\x00\\x00\\x00\\x00\\x00\\x00\\x00\\x00\\x00\\x00\\x00\\x00\\x00\\x00\\x00\\x00\\x00\\x00\\x00\\x00\\x00\\x00\\x00\\x00\\x00\\x00\\x00\\x00\\x00\\x00\\x00\\x00\\x00\\x00\\x00\\x00\\x00\\x00\\x00\\x00\\x00\\x00\\x00\\x00\\x00\\x00\\x00\\x00\\x00\\x00\\x00\\x00\\x00\\x00\\x00\\x00\\x00\\x00\\x00\\x00\\x00\\x00\\x00\\x00\\x00\\x00\\x00\\x00\\x00\\x00\\x00\\x00\\x00\\x00\\x00\\x00\\x00\\x00\\x00\\x00\\x00\\x00\\x00\\x00\\x00\\x00\\x00\\x00\\x00\\x00\\x00\\x00\\x00\\x00\\x00\\x00\\x00\\x00\\x00\\x00\\x00\\x00\\x00\\x00\\x00\\x00\\x00\\x00\\x00\\x00\\x00\\x00\\x00\\x00\\x00\\x00\\x00\\x00\\x00\\x00\\x00\\x00\\x00\\x00\\x00\\x00\\x00\\x00\\x00\\x00\\x00\\x00\\x00\\x00\\x00\\x00\\x00\\x00\\x00\\x00\\x00\\x00\\x00\\x00\\x00\\x00\\x00\\x00\\x00\\x00\\x00\\x00\\x00\\x00\\x00\\x00\\x00\\x00\\x00\\x00\\x00\\x00\\x00\\x00\\x00\\x00\\x00\\x00\\x00\\x00\\x00\\x00\\x00\\x00\\x00\\x00\\x00\\x00\\x00\\x00\\x00\\x00\\x00\\x00\\x00\\x00\\x00\\x00\\x00\\x00\\x00\\x00\\x00\\x00\\x00\\x00\\x00\\x00\\x00\\x00\\x00\\x00\\x00\\x00\\x00\\x00\\x00\\x00\\x00\\x00\\x00\\x00\\x00\\x00\\x00\\x00\\x00\\x00\\x00\\x00\\x00\\x00\\x00\\x00\\x00\\x00\\x00\\x00\\x00\\x00\\x00\\x00\\x00\\x00\\x00\\x00\\x00\\x00\\x00\\x00\\x00\\x00\\x00\\x00\\x00\\x00\\x00\\x00\\x00\\x00\\x00\\x00\\x00\\x00\\x00\\x00\\x00\\x00\\x00\\x00\\x00\\x00\\x00\\x00\\x00\\x00\\x00\\x00\\x00\\x00\\x00\\x00\\x00\\x00\\x00\\x00\\x00\\x00\\x00\\x00\\x00\\x00\\x00\\x00\\x00\\x00\\x00\\x00\\x00\\x00\\x00\\x00\\x00\\x00\\x00\\x00\\x00\\x00\\x00\\x00\\x00\\x00\\x00\\x00\\x00\\x00\\x00\\x00\\x00\\x00\\x00\\x00\\x00\\x00\\x00\\x00\\x00\\x00\\x00\\x00\\x00\\x00\\x00\\x00\\x00\\x00\\x00\\x00\\x00\\x00\\x00\\x00\\x00\\x00\\x00\\x00\\x00\\x00\\x00\\x00\\x00\\x00\\x00\\x00\\x00\\x00\\x00\\x00\\x00\\x00\\x00\\x00\\x00\\x00\\x00\\x00\\x00\\x00\\x00\\x00\\x00\\x00\\x00\\x00\\x00\\x00\\x00\\x00\\x00\\x00\\x00\"\n"
     ]
    }
   ],
   "source": [
    "data = pds4_tools.read(rawname)\n",
    "print(data[0].data)"
   ]
  },
  {
   "cell_type": "code",
   "execution_count": 40,
   "metadata": {},
   "outputs": [
    {
     "name": "stdout",
     "output_type": "stream",
     "text": [
      "Processing label: /Users/zouxd/Meeting/PDS-reviews/2023-1-13/Feb08/Mascam_Archive-230202/Mascam_Archive/data_raw/MP_1b/mcam_1086875187_451_29464_r_edr.xml\n",
      "Now processing a Header structure: VICAR_Header\n",
      "Now processing a Array_2D_Image structure: mcam_1086875187_451_29464_r_edr\n",
      "data_raw/MP_1b/mcam_1086875187_451_29464_r_edr.xml\n",
      "data_raw/MP_1b/mcam_1086877090_455_00002_n_edr.xml\n",
      "calibration/mascot_mascam_flatfield_fm.xml\n",
      "data_calibrated/MP_1b/mcam_1086875187_451_29464_r_rdr.xml\n",
      "calibration/mascot_mascam_red_straylight.xml\n",
      "calibration/mascot_mascam_red_over_green.xml\n",
      "Processing label: /Users/zouxd/Meeting/PDS-reviews/2023-1-13/Feb08/Mascam_Archive-230202/Mascam_Archive/data_raw/MP_1b/mcam_1086877090_455_00002_n_edr.xml\n",
      "Now processing a Header structure: VICAR_Header\n",
      "Now processing a Array_2D_Image structure: mcam_1086877090_455_00002_n_edr\n",
      "Processing label: /Users/zouxd/Meeting/PDS-reviews/2023-1-13/Feb08/Mascam_Archive-230202/Mascam_Archive/data_raw/MP_2c/mcam_1087724659_755_00002_n_edr.xml\n",
      "Now processing a Header structure: VICAR_Header\n",
      "Now processing a Array_2D_Image structure: mcam_1087724659_755_00002_n_edr\n",
      "Processing label: /Users/zouxd/Meeting/PDS-reviews/2023-1-13/Feb08/Mascam_Archive-230202/Mascam_Archive/calibration/mascot_mascam_flatfield_fm.xml\n",
      "Now processing a Header structure: vicar_header\n",
      "Now processing a Array_2D_Image structure: mascot_mascam_flatfield_fm\n",
      "Processing label: /Users/zouxd/Meeting/PDS-reviews/2023-1-13/Feb08/Mascam_Archive-230202/Mascam_Archive/data_calibrated/MP_1b/mcam_1086875187_451_29464_r_rdr.xml\n",
      "Now processing a Header structure: VICAR_Header\n",
      "Now processing a Array_2D_Image structure: mcam_1086875187_451_29464_r_rdr\n",
      "0   Header          'VICAR_Header'                     VICAR2\n",
      "1   Array_2D_Image  'mcam_1086875187_451_29464_r_rdr'  2 axes, 1024 x 1024\n",
      "Processing label: /Users/zouxd/Meeting/PDS-reviews/2023-1-13/Feb08/Mascam_Archive-230202/Mascam_Archive/calibration/mascot_mascam_red_straylight.xml\n",
      "Now processing a Header structure: vicar_header\n",
      "Now processing a Array_2D_Image structure: mascot_mascam_red_straylight\n",
      "Processing label: /Users/zouxd/Meeting/PDS-reviews/2023-1-13/Feb08/Mascam_Archive-230202/Mascam_Archive/calibration/mascot_mascam_red_over_green.xml\n",
      "Now processing a Header structure: vicar_header\n",
      "Now processing a Array_2D_Image structure: mascot_mascam_red_over_green\n",
      "data_raw/MP_1b/mcam_1086875187_451_29464_r_edr.xml\n",
      "raw =  2369\n",
      "L(raw) =  2294.17503071\n",
      "data_raw/MP_1b/mcam_1086877090_455_00002_n_edr.xml\n",
      "bias =  480\n",
      "L(bias) =  874.5594731063177\n",
      "calibration/mascot_mascam_flatfield_fm.xml\n",
      "flatfield =  0.53664005\n",
      "clean =  4199.409860323314\n",
      "calibration/mascot_mascam_red_straylight.xml\n",
      "stray =  0.009032607\n",
      "calibration/mascot_mascam_red_over_green.xml\n",
      "v =  0.009032607\n",
      "data_calibrated/MP_1b/mcam_1086875187_451_29464_r_rdr.xml\n",
      "team_calibration =  1.1886864\n",
      "my_calibration =  3.7163525046810855\n"
     ]
    }
   ],
   "source": [
    "import math\n",
    "from math import sqrt\n",
    "##Calibration\n",
    "#Read raw\n",
    "path = '/Users/zouxd/Meeting/PDS-reviews/2023-1-13/Feb08/Mascam_Archive-230202/Mascam_Archive/'\n",
    "a = 6\n",
    "b = 6\n",
    "rawname = path + 'data_raw/MP_1b/mcam_1086875187_451_29464_r_edr.xml'\n",
    "rawdata = pds4_tools.read(rawname)\n",
    "raw = rawdata[1].data\n",
    "raw_l = 1000 * (0.3055 + 0.8084 * raw[a,b] / 1000 + (raw[a,b] / 1000)*(raw[a,b] / 1000) * 0.01311)\n",
    "print('data_raw/MP_1b/mcam_1086875187_451_29464_r_edr.xml')\n",
    "print(\"data_raw/MP_1b/mcam_1086877090_455_00002_n_edr.xml\")\n",
    "print(\"calibration/mascot_mascam_flatfield_fm.xml\")\n",
    "print(\"data_calibrated/MP_1b/mcam_1086875187_451_29464_r_rdr.xml\")\n",
    "print(\"calibration/mascot_mascam_red_straylight.xml\")\n",
    "print(\"calibration/mascot_mascam_red_over_green.xml\")\n",
    "#Read cal\n",
    "biasfile = path + \"data_raw/MP_1b/mcam_1086877090_455_00002_n_edr.xml\"\n",
    "biasdata = pds4_tools.read(biasfile)\n",
    "bias1 = biasdata[1].data\n",
    "bias_l = sqrt(4 * 0.8645 * 460.8 * bias1[a, b] )\n",
    "\n",
    "texp = 2.9464\n",
    "TD = -10.6+273.15\n",
    "T = 10.34+273.15\n",
    "fttd = math.exp(1.33 * 10**(-19) * (1/TD-1/T) / 1.38065 * 10**(-23))\n",
    "\n",
    "darkname = path + \"data_raw/MP_2c/mcam_1087724659_755_00002_n_edr.xml\"\n",
    "darkdata = pds4_tools.read(darkname)\n",
    "dark = darkdata[1].data\n",
    "\n",
    "fname = path + \"calibration/mascot_mascam_flatfield_fm.xml\"\n",
    "fdata = pds4_tools.read(fname)\n",
    "f = fdata[1].data\n",
    "ff = f[a,b]\n",
    "\n",
    "#clean = ((raw_l-bias_l)/texp - fttd*(dark[a,b]-bias_l)/0.2138)/ff\n",
    "clean = ((raw_l-bias_l)/texp /0.2138)/ff\n",
    "#Read Calibrated\n",
    "calname = path + \"data_calibrated/MP_1b/mcam_1086875187_451_29464_r_rdr.xml\"\n",
    "caldata = pds4_tools.read(calname)\n",
    "caldata.info()\n",
    "cal = caldata[1].data\n",
    "\n",
    "strayfile = path + \"calibration/mascot_mascam_red_straylight.xml\"\n",
    "straydata = pds4_tools.read(strayfile)\n",
    "stray = straydata[1].data\n",
    "stay = stray[a,b]\n",
    "\n",
    "rp = 125.1*1000\n",
    "\n",
    "\n",
    "vfile = path + \"calibration/mascot_mascam_red_over_green.xml\"\n",
    "vdata = pds4_tools.read(vfile)\n",
    "vv = straydata[1].data\n",
    "v = stray[a,b]\n",
    "\n",
    "\n",
    "final = (clean - stay)/(rp*v)\n",
    "#Compare Cal\n",
    "\n",
    "print('data_raw/MP_1b/mcam_1086875187_451_29464_r_edr.xml')\n",
    "\n",
    "\n",
    "\n",
    "\n",
    "\n",
    "print('raw = ', raw[a,b])\n",
    "print('L(raw) = ',    raw_l)\n",
    "print(\"data_raw/MP_1b/mcam_1086877090_455_00002_n_edr.xml\")\n",
    "print('bias = ', bias[a,b])\n",
    "print('L(bias) = ', bias_l)\n",
    "print(\"calibration/mascot_mascam_flatfield_fm.xml\")\n",
    "print('flatfield = ', ff)\n",
    "print('clean = ',clean)\n",
    "print(\"calibration/mascot_mascam_red_straylight.xml\")\n",
    "print('stray = ',stay)\n",
    "print(\"calibration/mascot_mascam_red_over_green.xml\")\n",
    "print('v = ', v)\n",
    "print(\"data_calibrated/MP_1b/mcam_1086875187_451_29464_r_rdr.xml\")\n",
    "print('team_calibration = ', cal[a,b])\n",
    "print('my_calibration = ', final)\n"
   ]
  },
  {
   "cell_type": "code",
   "execution_count": 23,
   "metadata": {},
   "outputs": [
    {
     "name": "stdout",
     "output_type": "stream",
     "text": [
      "Processing label: /Users/zouxd/Meeting/PDS-reviews/2023-1-13/Feb08/Mascam_Archive-230202/Mascam_Archive/data_raw/MP_1b/mcam_1086877090_455_00002_n_edr.xml\n",
      "Now processing a Header structure: VICAR_Header\n",
      "Now processing a Array_2D_Image structure: mcam_1086877090_455_00002_n_edr\n"
     ]
    }
   ],
   "source": [
    "biasdata = pds4_tools.read('/Users/zouxd/Meeting/PDS-reviews/2023-1-13/Feb08/Mascam_Archive-230202/Mascam_Archive/data_raw/MP_1b/mcam_1086877090_455_00002_n_edr.xml')\n",
    "bias = biasdata[1].data\n"
   ]
  },
  {
   "cell_type": "code",
   "execution_count": 21,
   "metadata": {},
   "outputs": [
    {
     "name": "stdout",
     "output_type": "stream",
     "text": [
      "Processing label: /Users/zouxd/Meeting/PDS-reviews/2022-05-10-PDS-review/leia_raw/prelaunch/liciacube_leia_l0_0717839687_18230_01.xml\n",
      "Found a Header structure: HEADER_0\n",
      "Found a Array_2D_Image structure: liciacube_leia_l0_0717839687_18230_01\n"
     ]
    }
   ],
   "source": [
    "pds4_tools.view(\"/Users/zouxd/Meeting/PDS-reviews/2022-05-10-PDS-review/leia_raw/prelaunch/liciacube_leia_l0_0717839687_18230_01.xml\")"
   ]
  },
  {
   "cell_type": "code",
   "execution_count": 67,
   "metadata": {},
   "outputs": [
    {
     "name": "stdout",
     "output_type": "stream",
     "text": [
      "b\"LBLSIZE=2048            FORMAT='HALF'  TYPE='IMAGE'  BUFSIZ=20480  DIM=3  EOL=0  RECSIZE=2048  ORG='BSQ'  NL=1024  NS=1024  NB=1  N1=1024  N2=1024  N3=1  N4=0  NBB=0  NLB=0  HOST='X86-64-LINX'  INTFMT='LOW'  REALFMT='RIEEE'  BHOST='VAX-VMS'  BINTFMT='LOW'  BREALFMT='VAX'  BLTYPE=''  COMPRESS='NONE'  EOCI1=0  EOCI2=0  PROPERTY='FILE'  SOURCE_FILE_NAME='11GID755_32.rec'  GROUP_ID=755  PROCESSING_LEVEL_ID=1  ADJU_ID=1087723459  PROPERTY='ILLUMINATION'  LOCAL_HOUR_ANGLE=84.4208  LOCAL_TIME='05:37:41'  SOLAR_AZIMUTH=100.182  SOLAR_ELEVATION=-6.17338  PROPERTY='M94_ORBIT'  SPACECRAFT_CLOCK_START_COUNT='1087723459'  SPACECRAFT_CLOCK_STOP_COUNT='1087724659'  START_TIME='2018-10-03T14:55:04.807'  IMAGE_TIME='2018-10-03T14:55:04.807'  STOP_TIME='2018-10-03T15:03:14.312'  PROPERTY='M94_CAMERAS'  SAMPLE_FIRST_PIXEL=1  SAMPLE_LAST_PIXEL=1024  LINE_FIRST_PIXEL=1  LINE_LAST_PIXEL=1024  EXPOSURE_DURATION=0.2138  EXPOSURE_DURATION__UNIT='ms'  EXPOSURE_FPGA=1  SAMPLE_BITS=16  INST_CMPRS_MODE=16  INST_CMPRS_IBR='IBR_32'  ACTIVE_LED='NONE'  PROPERTY='M94_INSTRUMENT'  MISSION_NAME='HAYABUSA2'  INSTRUMENT_HOST_NAME='HAYABUSA2_MASCOT'  INSTRUMENT_HOST_ID='HAYABUSA2_MASCOT'  INSTRUMENT_NAME='HAYABUSA2_MASCOT_CAM'  INSTRUMENT_ID='MASCAM'  INSTRUMENT_VERSION_ID='FM'  TEMPERATURE_C=-10.6  TEMPERATURE_FPGA=5981  TEMPERATURE_TIME='2018-10-03T14:54:05.595'  TEMPERATURE_SCLK='1087721564'  PROPERTY='MAP'  TARGET_NAME='RYUGU'  TASK='TASK'  USER='mexsyst'  DAT_TIM='Thu Oct 18 10:44:14 2018'  \\x00\\x00\\x00\\x00\\x00\\x00\\x00\\x00\\x00\\x00\\x00\\x00\\x00\\x00\\x00\\x00\\x00\\x00\\x00\\x00\\x00\\x00\\x00\\x00\\x00\\x00\\x00\\x00\\x00\\x00\\x00\\x00\\x00\\x00\\x00\\x00\\x00\\x00\\x00\\x00\\x00\\x00\\x00\\x00\\x00\\x00\\x00\\x00\\x00\\x00\\x00\\x00\\x00\\x00\\x00\\x00\\x00\\x00\\x00\\x00\\x00\\x00\\x00\\x00\\x00\\x00\\x00\\x00\\x00\\x00\\x00\\x00\\x00\\x00\\x00\\x00\\x00\\x00\\x00\\x00\\x00\\x00\\x00\\x00\\x00\\x00\\x00\\x00\\x00\\x00\\x00\\x00\\x00\\x00\\x00\\x00\\x00\\x00\\x00\\x00\\x00\\x00\\x00\\x00\\x00\\x00\\x00\\x00\\x00\\x00\\x00\\x00\\x00\\x00\\x00\\x00\\x00\\x00\\x00\\x00\\x00\\x00\\x00\\x00\\x00\\x00\\x00\\x00\\x00\\x00\\x00\\x00\\x00\\x00\\x00\\x00\\x00\\x00\\x00\\x00\\x00\\x00\\x00\\x00\\x00\\x00\\x00\\x00\\x00\\x00\\x00\\x00\\x00\\x00\\x00\\x00\\x00\\x00\\x00\\x00\\x00\\x00\\x00\\x00\\x00\\x00\\x00\\x00\\x00\\x00\\x00\\x00\\x00\\x00\\x00\\x00\\x00\\x00\\x00\\x00\\x00\\x00\\x00\\x00\\x00\\x00\\x00\\x00\\x00\\x00\\x00\\x00\\x00\\x00\\x00\\x00\\x00\\x00\\x00\\x00\\x00\\x00\\x00\\x00\\x00\\x00\\x00\\x00\\x00\\x00\\x00\\x00\\x00\\x00\\x00\\x00\\x00\\x00\\x00\\x00\\x00\\x00\\x00\\x00\\x00\\x00\\x00\\x00\\x00\\x00\\x00\\x00\\x00\\x00\\x00\\x00\\x00\\x00\\x00\\x00\\x00\\x00\\x00\\x00\\x00\\x00\\x00\\x00\\x00\\x00\\x00\\x00\\x00\\x00\\x00\\x00\\x00\\x00\\x00\\x00\\x00\\x00\\x00\\x00\\x00\\x00\\x00\\x00\\x00\\x00\\x00\\x00\\x00\\x00\\x00\\x00\\x00\\x00\\x00\\x00\\x00\\x00\\x00\\x00\\x00\\x00\\x00\\x00\\x00\\x00\\x00\\x00\\x00\\x00\\x00\\x00\\x00\\x00\\x00\\x00\\x00\\x00\\x00\\x00\\x00\\x00\\x00\\x00\\x00\\x00\\x00\\x00\\x00\\x00\\x00\\x00\\x00\\x00\\x00\\x00\\x00\\x00\\x00\\x00\\x00\\x00\\x00\\x00\\x00\\x00\\x00\\x00\\x00\\x00\\x00\\x00\\x00\\x00\\x00\\x00\\x00\\x00\\x00\\x00\\x00\\x00\\x00\\x00\\x00\\x00\\x00\\x00\\x00\\x00\\x00\\x00\\x00\\x00\\x00\\x00\\x00\\x00\\x00\\x00\\x00\\x00\\x00\\x00\\x00\\x00\\x00\\x00\\x00\\x00\\x00\\x00\\x00\\x00\\x00\\x00\\x00\\x00\\x00\\x00\\x00\\x00\\x00\\x00\\x00\\x00\\x00\\x00\\x00\\x00\\x00\\x00\\x00\\x00\\x00\\x00\\x00\\x00\\x00\\x00\\x00\\x00\\x00\\x00\\x00\\x00\\x00\\x00\\x00\\x00\\x00\\x00\\x00\\x00\\x00\\x00\\x00\\x00\\x00\\x00\\x00\\x00\\x00\\x00\\x00\\x00\\x00\\x00\\x00\\x00\\x00\\x00\\x00\\x00\\x00\\x00\\x00\\x00\\x00\\x00\\x00\\x00\\x00\\x00\\x00\\x00\\x00\\x00\\x00\\x00\\x00\\x00\\x00\\x00\\x00\\x00\\x00\\x00\\x00\\x00\\x00\\x00\\x00\\x00\\x00\\x00\\x00\\x00\\x00\\x00\\x00\\x00\\x00\\x00\\x00\\x00\\x00\\x00\\x00\\x00\\x00\\x00\\x00\\x00\\x00\\x00\\x00\\x00\\x00\\x00\\x00\\x00\\x00\\x00\\x00\\x00\\x00\\x00\\x00\\x00\\x00\\x00\\x00\\x00\\x00\\x00\\x00\\x00\\x00\\x00\\x00\\x00\\x00\\x00\\x00\\x00\\x00\\x00\\x00\\x00\\x00\\x00\\x00\\x00\\x00\\x00\\x00\\x00\\x00\\x00\\x00\\x00\\x00\\x00\\x00\\x00\\x00\\x00\\x00\\x00\\x00\\x00\\x00\\x00\\x00\\x00\\x00\\x00\\x00\\x00\\x00\\x00\\x00\\x00\\x00\\x00\\x00\\x00\\x00\\x00\\x00\"\n"
     ]
    }
   ],
   "source": [
    "print(darkdata[0].data)\n",
    "/Users/zouxd/Meeting/PDS-reviews/2023-1-13/Feb08/Mascam_Archive-230202/Mascam_Archive/data_raw/MP_2a/mcam_1086982422_601_00233_n_edr.xml"
   ]
  },
  {
   "cell_type": "code",
   "execution_count": 1,
   "metadata": {},
   "outputs": [
    {
     "ename": "ModuleNotFoundError",
     "evalue": "No module named 'pds4_tools.extern.six.moves'",
     "output_type": "error",
     "traceback": [
      "\u001b[0;31m---------------------------------------------------------------------------\u001b[0m",
      "\u001b[0;31mModuleNotFoundError\u001b[0m                       Traceback (most recent call last)",
      "Cell \u001b[0;32mIn[1], line 1\u001b[0m\n\u001b[0;32m----> 1\u001b[0m \u001b[38;5;28;01mimport\u001b[39;00m \u001b[38;5;21;01mpds4_tools\u001b[39;00m\n",
      "File \u001b[0;32m~/miniconda3/lib/python3.12/site-packages/pds4_tools/__init__.py:3\u001b[0m\n\u001b[1;32m      1\u001b[0m \u001b[38;5;28;01mfrom\u001b[39;00m \u001b[38;5;21;01mpds4_tools\u001b[39;00m\u001b[38;5;21;01m.\u001b[39;00m\u001b[38;5;21;01m__about__\u001b[39;00m \u001b[38;5;28;01mimport\u001b[39;00m (__version__, __author__, __email__, __copyright__)\n\u001b[0;32m----> 3\u001b[0m \u001b[38;5;28;01mfrom\u001b[39;00m \u001b[38;5;21;01m.\u001b[39;00m\u001b[38;5;21;01mreader\u001b[39;00m \u001b[38;5;28;01mimport\u001b[39;00m pds4_read\n\u001b[1;32m      4\u001b[0m \u001b[38;5;28;01mfrom\u001b[39;00m \u001b[38;5;21;01m.\u001b[39;00m\u001b[38;5;21;01mviewer\u001b[39;00m \u001b[38;5;28;01mimport\u001b[39;00m pds4_viewer\n\u001b[1;32m      6\u001b[0m \u001b[38;5;28;01mfrom\u001b[39;00m \u001b[38;5;21;01m.\u001b[39;00m\u001b[38;5;21;01mreader\u001b[39;00m \u001b[38;5;28;01mimport\u001b[39;00m pds4_read \u001b[38;5;28;01mas\u001b[39;00m read\n",
      "File \u001b[0;32m~/miniconda3/lib/python3.12/site-packages/pds4_tools/reader/__init__.py:1\u001b[0m\n\u001b[0;32m----> 1\u001b[0m \u001b[38;5;28;01mfrom\u001b[39;00m \u001b[38;5;21;01m.\u001b[39;00m\u001b[38;5;21;01mcore\u001b[39;00m \u001b[38;5;28;01mimport\u001b[39;00m pds4_read\n",
      "File \u001b[0;32m~/miniconda3/lib/python3.12/site-packages/pds4_tools/reader/core.py:10\u001b[0m\n\u001b[1;32m      7\u001b[0m \u001b[38;5;28;01mimport\u001b[39;00m \u001b[38;5;21;01msys\u001b[39;00m\n\u001b[1;32m      8\u001b[0m \u001b[38;5;28;01mfrom\u001b[39;00m \u001b[38;5;21;01mposixpath\u001b[39;00m \u001b[38;5;28;01mimport\u001b[39;00m join \u001b[38;5;28;01mas\u001b[39;00m urljoin\n\u001b[0;32m---> 10\u001b[0m \u001b[38;5;28;01mfrom\u001b[39;00m \u001b[38;5;21;01m.\u001b[39;00m\u001b[38;5;21;01mlabel_objects\u001b[39;00m \u001b[38;5;28;01mimport\u001b[39;00m Label\n\u001b[1;32m     11\u001b[0m \u001b[38;5;28;01mfrom\u001b[39;00m \u001b[38;5;21;01m.\u001b[39;00m\u001b[38;5;21;01mread_headers\u001b[39;00m \u001b[38;5;28;01mimport\u001b[39;00m read_header\n\u001b[1;32m     12\u001b[0m \u001b[38;5;28;01mfrom\u001b[39;00m \u001b[38;5;21;01m.\u001b[39;00m\u001b[38;5;21;01mread_arrays\u001b[39;00m \u001b[38;5;28;01mimport\u001b[39;00m read_array\n",
      "File \u001b[0;32m~/miniconda3/lib/python3.12/site-packages/pds4_tools/reader/label_objects.py:11\u001b[0m\n\u001b[1;32m      8\u001b[0m \u001b[38;5;28;01mfrom\u001b[39;00m \u001b[38;5;21;01mxml\u001b[39;00m\u001b[38;5;21;01m.\u001b[39;00m\u001b[38;5;21;01metree\u001b[39;00m \u001b[38;5;28;01mimport\u001b[39;00m ElementTree \u001b[38;5;28;01mas\u001b[39;00m ET\n\u001b[1;32m     10\u001b[0m \u001b[38;5;28;01mfrom\u001b[39;00m \u001b[38;5;21;01m.\u001b[39;00m\u001b[38;5;21;01mread_label\u001b[39;00m \u001b[38;5;28;01mimport\u001b[39;00m read_label\n\u001b[0;32m---> 11\u001b[0m \u001b[38;5;28;01mfrom\u001b[39;00m \u001b[38;5;21;01m.\u001b[39;00m\u001b[38;5;21;01mgeneral_objects\u001b[39;00m \u001b[38;5;28;01mimport\u001b[39;00m Meta_Class\n\u001b[1;32m     13\u001b[0m \u001b[38;5;28;01mfrom\u001b[39;00m \u001b[38;5;21;01m.\u001b[39;00m\u001b[38;5;21;01m.\u001b[39;00m\u001b[38;5;21;01mutils\u001b[39;00m \u001b[38;5;28;01mimport\u001b[39;00m compat\n\u001b[1;32m     14\u001b[0m \u001b[38;5;28;01mfrom\u001b[39;00m \u001b[38;5;21;01m.\u001b[39;00m\u001b[38;5;21;01m.\u001b[39;00m\u001b[38;5;21;01mutils\u001b[39;00m\u001b[38;5;21;01m.\u001b[39;00m\u001b[38;5;21;01mconstants\u001b[39;00m \u001b[38;5;28;01mimport\u001b[39;00m PDS4_NAMESPACES, PDS4_DATA_FILE_AREAS\n",
      "File \u001b[0;32m~/miniconda3/lib/python3.12/site-packages/pds4_tools/reader/general_objects.py:11\u001b[0m\n\u001b[1;32m      9\u001b[0m \u001b[38;5;28;01mfrom\u001b[39;00m \u001b[38;5;21;01m.\u001b[39;00m\u001b[38;5;21;01m.\u001b[39;00m\u001b[38;5;21;01mutils\u001b[39;00m\u001b[38;5;21;01m.\u001b[39;00m\u001b[38;5;21;01mcompat\u001b[39;00m \u001b[38;5;28;01mimport\u001b[39;00m OrderedDict\n\u001b[1;32m     10\u001b[0m \u001b[38;5;28;01mfrom\u001b[39;00m \u001b[38;5;21;01m.\u001b[39;00m\u001b[38;5;21;01m.\u001b[39;00m\u001b[38;5;21;01mutils\u001b[39;00m\u001b[38;5;21;01m.\u001b[39;00m\u001b[38;5;21;01mhelpers\u001b[39;00m \u001b[38;5;28;01mimport\u001b[39;00m xml_to_dict, is_array_like\n\u001b[0;32m---> 11\u001b[0m \u001b[38;5;28;01mfrom\u001b[39;00m \u001b[38;5;21;01m.\u001b[39;00m\u001b[38;5;21;01m.\u001b[39;00m\u001b[38;5;21;01mutils\u001b[39;00m\u001b[38;5;21;01m.\u001b[39;00m\u001b[38;5;21;01mdata_access\u001b[39;00m \u001b[38;5;28;01mimport\u001b[39;00m is_supported_url, download_file\n\u001b[1;32m     12\u001b[0m \u001b[38;5;28;01mfrom\u001b[39;00m \u001b[38;5;21;01m.\u001b[39;00m\u001b[38;5;21;01m.\u001b[39;00m\u001b[38;5;21;01mutils\u001b[39;00m\u001b[38;5;21;01m.\u001b[39;00m\u001b[38;5;21;01mexceptions\u001b[39;00m \u001b[38;5;28;01mimport\u001b[39;00m PDS4StandardsException\n\u001b[1;32m     13\u001b[0m \u001b[38;5;28;01mfrom\u001b[39;00m \u001b[38;5;21;01m.\u001b[39;00m\u001b[38;5;21;01m.\u001b[39;00m\u001b[38;5;21;01mutils\u001b[39;00m\u001b[38;5;21;01m.\u001b[39;00m\u001b[38;5;21;01mlogging\u001b[39;00m \u001b[38;5;28;01mimport\u001b[39;00m logger_init\n",
      "File \u001b[0;32m~/miniconda3/lib/python3.12/site-packages/pds4_tools/utils/data_access.py:14\u001b[0m\n\u001b[1;32m     11\u001b[0m \u001b[38;5;28;01mfrom\u001b[39;00m \u001b[38;5;21;01m.\u001b[39;00m\u001b[38;5;21;01m.\u001b[39;00m\u001b[38;5;21;01mutils\u001b[39;00m\u001b[38;5;21;01m.\u001b[39;00m\u001b[38;5;21;01mlogging\u001b[39;00m \u001b[38;5;28;01mimport\u001b[39;00m logger_init\n\u001b[1;32m     13\u001b[0m \u001b[38;5;28;01mfrom\u001b[39;00m \u001b[38;5;21;01m.\u001b[39;00m\u001b[38;5;21;01m.\u001b[39;00m\u001b[38;5;21;01mextern\u001b[39;00m \u001b[38;5;28;01mimport\u001b[39;00m six\n\u001b[0;32m---> 14\u001b[0m \u001b[38;5;28;01mfrom\u001b[39;00m \u001b[38;5;21;01m.\u001b[39;00m\u001b[38;5;21;01m.\u001b[39;00m\u001b[38;5;21;01mextern\u001b[39;00m\u001b[38;5;21;01m.\u001b[39;00m\u001b[38;5;21;01msix\u001b[39;00m\u001b[38;5;21;01m.\u001b[39;00m\u001b[38;5;21;01mmoves\u001b[39;00m \u001b[38;5;28;01mimport\u001b[39;00m urllib\n\u001b[1;32m     16\u001b[0m \u001b[38;5;66;03m# Safe import of Certifi\u001b[39;00m\n\u001b[1;32m     17\u001b[0m \u001b[38;5;28;01mtry\u001b[39;00m:\n",
      "\u001b[0;31mModuleNotFoundError\u001b[0m: No module named 'pds4_tools.extern.six.moves'"
     ]
    }
   ],
   "source": [
    "import pds4_tools"
   ]
  },
  {
   "cell_type": "code",
   "execution_count": null,
   "metadata": {},
   "outputs": [],
   "source": []
  }
 ],
 "metadata": {
  "kernelspec": {
   "display_name": "Python 3 (ipykernel)",
   "language": "python",
   "name": "python3"
  },
  "language_info": {
   "codemirror_mode": {
    "name": "ipython",
    "version": 3
   },
   "file_extension": ".py",
   "mimetype": "text/x-python",
   "name": "python",
   "nbconvert_exporter": "python",
   "pygments_lexer": "ipython3",
   "version": "3.12.2"
  }
 },
 "nbformat": 4,
 "nbformat_minor": 4
}
