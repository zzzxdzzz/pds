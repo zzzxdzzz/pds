{
 "cells": [
  {
   "cell_type": "code",
   "execution_count": 6,
   "metadata": {},
   "outputs": [],
   "source": [
    "import pds4_tools\n"
   ]
  },
  {
   "cell_type": "code",
   "execution_count": 7,
   "metadata": {},
   "outputs": [
    {
     "name": "stdout",
     "output_type": "stream",
     "text": [
      "Processing label: /Users/zouxd/Meeting/PDS-reviews/2021-07-16/dart_spacecraft_bundle/dart/draco/final/calibrated/dart_0717891977_00957_01_cal.xml\n",
      "Now processing a Header structure: HEADER_0\n",
      "Now processing a Array_2D_Image structure: dart_0717891977_00957_01_cal\n"
     ]
    }
   ],
   "source": [
    "#structures = pds4_tools.read('https://sbnarchive.psi.edu/pds4/near/nearmsi.shapebackplane/data/2001/002/m0153871795f1_2p_cif_dbl_bp.xml')\n",
    "\n",
    "#structures = pds4_tools.read('/Users/zouxd/Meeting/PDS-reviews/2021-06-30-pharo-pluto/pharo-pluto/collection.xml')\n",
    "structures = pds4_tools.read('/Users/zouxd/Meeting/PDS-reviews/2021-07-16/dart_spacecraft_bundle/dart/draco/final/calibrated/dart_0717891977_00957_01_cal.xml')"
   ]
  },
  {
   "cell_type": "code",
   "execution_count": 3,
   "metadata": {},
   "outputs": [],
   "source": [
    "a = structures[0]                   # First Structure\n",
    "b = structures[0:2]                 # First two Structures\n",
    "#c = structures['emission']       # Structure with LID or name of 'Integration'\n"
   ]
  },
  {
   "cell_type": "code",
   "execution_count": null,
   "metadata": {},
   "outputs": [],
   "source": []
  },
  {
   "cell_type": "code",
   "execution_count": 4,
   "metadata": {},
   "outputs": [
    {
     "data": {
      "text/plain": [
       "'dart_0717891977_00957_01_cal'"
      ]
     },
     "execution_count": 4,
     "metadata": {},
     "output_type": "execute_result"
    }
   ],
   "source": [
    "lids = structures.label.findall('.//local_identifier')\n",
    "lids[0].text"
   ]
  },
  {
   "cell_type": "code",
   "execution_count": 5,
   "metadata": {},
   "outputs": [
    {
     "data": {
      "text/plain": [
       "'HEADER_0'"
      ]
     },
     "execution_count": 5,
     "metadata": {},
     "output_type": "execute_result"
    }
   ],
   "source": [
    "id = structures[0].id\n",
    "id"
   ]
  },
  {
   "cell_type": "code",
   "execution_count": 8,
   "metadata": {
    "scrolled": false
   },
   "outputs": [
    {
     "name": "stdout",
     "output_type": "stream",
     "text": [
      "b\"SIMPLE  =                    T / Java FITS: Fri Mar 12 21:48:35 EST 2021        BITPIX  =                  -32 / number of bits per data pixel                  NAXIS   =                    2 / number of data axes                            NAXIS1  =                 1024 / length of data axis 1                          NAXIS2  =                 1024 / length of data axis 2                          EXTEND  =                    T / Extensions are permitted                       DATE    = '2020-11-05T13:01:55' / FITS header creation date YYYY-MM-DDTHH:MM:SS MISSION = 'DART    '           / Mission:DART                                   HOSTNAME= 'DART    '           / spacecraft name                                INSTRUME= 'DRACO   '           / Instrument name                                APID    = '333     '           / Application ID of science data                 MISPXCNT= '0       '           / The number of missing pixels                   MISPXVAL= '1E32    '           / the value assigned to missing pixels           PXOUTWIN= '-1E32   '           / Value assigned to pixels outside window2       IMGTMSEC= '717891977'          / [sec] image time                               IMGTMSUB= '957     '           / [subsec] image time, 16-bit subseconds         CORTMSEC= '717891977'          / [sec] correlation time                         CORTMSUB= '200     '           / [subsec] 8-bit subseconds                      SN_SEC  = '298271898'          / [sec] SMART Nav time                           SN_SUB  = '21314   '           / [subsec] SMART Nav time 16-bit subseconds      FPE_SEC = '323548618'          / [sec] MET first pixel arrives at SBC           FPE_SBSS= '49999   '           / [subsec] MET 16bit subsec first pxl arr. at SBCFPE_EBSS= '128     '           / [subsec] 8bit subsec first pxl arr. at SBC     ESTAQSEC= '298271898'          / [sec] est. latch time                          ESTAQSUB= '49999   '           / [subsec] est. latch time, 16-bit subseconds    ACQTMSEC= '717891977'          / [sec] image TOV                                ACQTMSUB= '782     '           / [subsec] image TOV                             SNG_SEC = '717892216'          / [sec] SNG state update time                    SNG_SUB = '782     '           / [subsec] SNG state update time                 IMGMOD  = 'GLOBAL  '           / Imaging mode                                   EXPTIME = '0.156789'           / [sec] Exposure time                            VIRTROWS= '20      '           / number of virtual rows                         GAIN    = '1X      '           / Gain setting                                   IMGSLOT = 'A       '           / Processing slot used                           DATAMODE= 'DOWNLINK'           / Data collection mode                           TSTPTTRN= '-1      '           / Test pattern mode                              BINNING = 'ON      '           / Binning status                                 WIN1XSTA= '0       '           / X origin of window 1                           WIN1XEND= '2047    '           / X end of window 1                              WIN1YSTA= '1       '           / Y origin of window 1                           WIN1YEND= '2048    '           / Y end of window 1                              WINDOWH = '512     '           / Height of the image                            WINDOWW = '512     '           / Width of the image                             WINDOWX = '256     '           / X origin of image                              WINDOWY = '256     '           / Y origin of image                              SNGROI_C= '123     '           / pixel col start                                SNGROI_R= '496     '           / pixel row start                                WIN2XSTA= '256     '           / X origin of window 2                           WIN2YSTA= '256     '           / Y origin of window 2                           TRUNC   = 'MSB     '           / Truncation mode                                CALIB   = 'OFF     '           / Calibration status                             BADPIXMD= 'BYPASS  '           / Bad pixel invalidation mode                    SNAVFLAG= '4095    '           / Value SMART Nav uses to flag bad pixels        TARSTATE= 'PRECISIONLOCKED'    / Targeting State                                DIDATRK = '15      '           / Didymos track ID                               DIMOTK1 = '15      '           / Dimorphos Track ID 1                           DIMOTK2 = '15      '           / Dimorphos Track ID 2                           DIMOTK3 = '15      '           / Dimorphos Track ID 3                           DIMOTK4 = '15      '           / Dimorphos Track ID 4                           DIMOTK5 = '15      '           / Dimorphos Track ID 5                           DIMOTK6 = '15      '           / Dimorphos Track ID 6                           DIMOTK7 = '15      '           / Dimorphos Track ID 7                           DIMOTK8 = '15      '           / Dimorphos Track ID 8                           DIMOTK9 = '15      '           / Dimorphos Track ID 9                           DIMOTK10= '15      '           / Dimorphos Track ID 10                          DIMOTK11= '15      '           / Dimorphos Track ID 11                          DIMOTK12= '15      '           / Dimorphos Track ID 12                          DIMOTK13= '15      '           / Dimorphos Track ID 13                          DIMOTK14= '15      '           / Dimorphos Track ID 14                          DIMOTK15= '15      '           / Dimorphos Track ID 15                          DIMOTK16= '15      '           / Dimorphos Track ID 16                          DID_X   = '780.22  '           / Est. col. position of Didymos centroid         DID_Y   = '780.22  '           / Est. row position of Didymos centroid          DIM_X   = '780.22  '           / Est. col. position of centroid                 DIM_Y   = '780.22  '           / Est. row position of centroid                  GCXSUM1 = '536346624'          / Centroid 1 col sum                             GCXSUM2 = '1280    '           / Centroid 2 col sum                             GCXSUM3 = '1280    '           / Centroid 3 col sum                             GCXSUM4 = '1280    '           / Centroid 4 col sum                             GCXSUM5 = '1280    '           / Centroid 5 col sum                             GCXSUM6 = '1280    '           / Centroid 6 col sum                             GCXSUM7 = '1280    '           / Centroid 7 col sum                             GCXSUM8 = '1280    '           / Centroid 8 col sum                             GCXSUM9 = '1280    '           / Centroid 9 col sum                             GCXSUM10= '1280    '           / Centroid 10 col sum                            GCXSUM11= '1280    '           / Centroid 11 col sum                            GCXSUM12= '1280    '           / Centroid 12 col sum                            GCXSUM13= '1280    '           / Centroid 13 col sum                            GCXSUM14= '1280    '           / Centroid 14 col sum                            GCXSUM15= '1280    '           / Centroid 15 col sum                            GCXSUM16= '1280    '           / Centroid 16 col sum                            GCYSUM1 = '536346624'          / Centroid 1 row sum                             GCYSUM2 = '1280    '           / Centroid 2 row sum                             GCYSUM3 = '1280    '           / Centroid 3 row sum                             GCYSUM4 = '1280    '           / Centroid 4 row sum                             GCYSUM5 = '1280    '           / Centroid 5 row sum                             GCYSUM6 = '1280    '           / Centroid 6 row sum                             GCYSUM7 = '1280    '           / Centroid 7 row sum                             GCYSUM8 = '1280    '           / Centroid 8 row sum                             GCYSUM9 = '1280    '           / Centroid 9 row sum                             GCYSUM10= '1280    '           / Centroid 10 row sum                            GCYSUM11= '1280    '           / Centroid 11 row sum                            GCYSUM12= '1280    '           / Centroid 12 row sum                            GCYSUM13= '1280    '           / Centroid 13 row sum                            GCYSUM14= '1280    '           / Centroid 14 row sum                            GCYSUM15= '1280    '           / Centroid 15 row sum                            GCYSUM16= '1280    '           / Centroid 16 row sum                            GINTSM1 = '4294967295'         / Centroid 1 intensity                           GINTSM2 = '1280    '           / Centroid 2 intensity                           GINTSM3 = '1280    '           / Centroid 3 intensity                           GINTSM4 = '1280    '           / Centroid 4 intensity                           GINTSM5 = '1280    '           / Centroid 5 intensity                           GINTSM6 = '1280    '           / Centroid 6 intensity                           GINTSM7 = '1280    '           / Centroid 7 intensity                           GINTSM8 = '1280    '           / Centroid 8 intensity                           GINTSM9 = '1280    '           / Centroid 9 intensity                           GINTSM10= '1280    '           / Centroid 10 intensity                          GINTSM11= '1280    '           / Centroid 11 intensity                          GINTSM12= '1280    '           / Centroid 12 intensity                          GINTSM13= '1280    '           / Centroid 13 intensity                          GINTSM14= '1280    '           / Centroid 14 intensity                          GINTSM15= '1280    '           / Centroid 15 intensity                          GINTSM16= '1280    '           / Centroid 16 intensity                          GNPXLS1 = '1048576 '           / Centroid 1 num. pixels                         GNPXLS2 = '1280    '           / Centroid 2 num. pixels                         GNPXLS3 = '1280    '           / Centroid 3 num. pixels                         GNPXLS4 = '1280    '           / Centroid 4 num. pixels                         GNPXLS5 = '1280    '           / Centroid 5 num. pixels                         GNPXLS6 = '1280    '           / Centroid 6 num. pixels                         GNPXLS7 = '1280    '           / Centroid 7 num. pixels                         GNPXLS8 = '1280    '           / Centroid 8 num. pixels                         GNPXLS9 = '1280    '           / Centroid 9 num. pixels                         GNPXLS10= '1280    '           / Centroid 10 num. pixels                        GNPXLS11= '1280    '           / Centroid 11 num. pixels                        GNPXLS12= '1280    '           / Centroid 12 num. pixels                        GNPXLS13= '1280    '           / Centroid 13 num. pixels                        GNPXLS14= '1280    '           / Centroid 14 num. pixels                        GNPXLS15= '1280    '           / Centroid 15 num. pixels                        GNPXLS16= '1280    '           / Centroid 16 num. pixels                        CNTKID1 = '65535   '           / Centroid 1 track ID                            CNTKID2 = '1       '           / Centroid 2 track ID                            CNTKID3 = '1       '           / Centroid 3 track ID                            CNTKID4 = '1       '           / Centroid 4 track ID                            CNTKID5 = '1       '           / Centroid 5 track ID                            CNTKID6 = '1       '           / Centroid 6 track ID                            CNTKID7 = '1       '           / Centroid 7 track ID                            CNTKID8 = '1       '           / Centroid 8 track ID                            CNTKID9 = '1       '           / Centroid 9 track ID                            CNTKID10= '1       '           / Centroid 10 track ID                           CNTKID11= '1       '           / Centroid 11 track ID                           CNTKID12= '1       '           / Centroid 12 track ID                           CNTKID13= '1       '           / Centroid 13 track ID                           CNTKID14= '1       '           / Centroid 14 track ID                           CNTKID15= '1       '           / Centroid 15 track ID                           CNTKID16= '1       '           / Centroid 16 track ID                           HYDRMSS = '8.6     '           / [kg] Remaining hydrazine mass                  SNTIAMAT= 'TRUE    '           / Targeting attitude matched                     SNGDMAT = 'TRUE    '           / Guidance attitude matched                      TDVEST_X= '2.9     '           / [m/s] Terminal X deltaV est.                   TDVEST_Y= '2.9     '           / [m/s] Terminal Y deltaV est.                   TDVEST_Z= '2.9     '           / [m/s] Terminal Z deltaV est.                   SNFTEXE = 'TRUE    '           / SMART Nav guidance filter executing            SNGSTAT = '0       '           / SN Guidance status flags in 8-bit LSB word     BLOBTHRS= '5       '           / Minimum number of pixels used for a blob       FORETHRS= '1       '           / Foreground threshold                           ESTSC_QA= '0.1069824074469686' / SC quaternion in J2000 (q0)                    ESTSC_QX= '-0.6052611735704101' / SC quaternion in J2000 (q1)                   ESTSC_QY= '0.6649305028675611' / SC quaternion in J2000 (q2)                    ESTSC_QZ= '-0.4243596383037780' / SC quaternion in J2000 (q3)                   SMEARINX= '-6.667392881354317E-0005' / [rad/sec] Angular rate about SC +X axis  SMEARINY= '-1.3332458911463618E-0004' / [rad/sec] Angular rate about SC +Y axis SMEARINZ= '7.894518816442542E-0009' / [rad/sec] Angular rate about SC +Z axis   ATT_VAL = '1       '           / Attitude flag                                  FRM_ID  = '2       '           / Frame ID                                       DETTEMP1= '18.333  '           / [degC] Detector temperature sensor 1           DETTEMP2= '18.333  '           / [degC] Detector temperature sensor 2           FPETEMP = '18.333  '           / [degC] FPE board temperature                   CURR33VA= '12.1    '           / [mA] Current for detector 3.3VA supply         CURR18VD= '7.14    '           / [mA] Current for detector 1.8VA supply         CURR33VD= '12.1    '           / [mA] Current for detector 3.3VD supply         CURR33VP= '12.1    '           / [mA] Current for detector 3.3V pixel supply    ANRSTCUR= '7.01    '           / [mA] Current for detector analog reset supply  REL_A_X = '0       '           / X SC Relative Inertial Position of Didymos     REL_A_Y = '0       '           / Y SC Relative Inertial Position of Didymos     REL_A_Z = '0       '           / Z SC Relative Inertial Position of Didymos     REL_B_X = '0       '           / X SC Relative Inertial Position of Dimorphos   REL_B_Y = '0       '           / Y SC Relative Inertial Position of Dimorphos   REL_B_Z = '0       '           / Z SC Relative Inertial Position of Dimorphos   FSWNAM  = 'dart_awesome_fsw.bin' / name of flight software                      FSWVER  = '1.0.0   '           / flight software version tag                    TARGET  = 'DIDYMOS '           / Primary target object                          SECTAR  = 'DIMORPHOS'          / Secondary target object                        MPHASE  = 'TERMINAL'           / phase of the mission                           COR_UTC = '2022-10-01 10:25:08.599' / Est. UTC of COR_TIME (YYYY-MM-DD HH:MM:SS)SCLKPATI= '1       '           / SCLK partition                                 SCLKNAME= 'blah.sclk'          / SCLK file used for COR_UTC                     ACQTM   = '717891977:782'      / [sec:subsec] image TOV                         ACQTM_ET= '717891977.782000'   / [sec] image TOV as ephemeris time              ACQTMSOC= '0717891977:782'     / [sec:subsec] SOC-calculated TOV                ACQTMSET= '717891977.782000'   / [sec] ephemeris time from ACQTMSOC             ACQ_UTC = '2022-10-01T10:25:08.600' / Image TOV in UTC from ACQTMSOC            ACQ_JDAT= '2459853.93492803'   / Image TOV in Julian Ephemeris Date, ACQTMSOC   LINEREAD= '87.46666'           / Readout time in microsec/line                  PIXDELAY= '33.3    '           / Delay between sequential pixels in line in ns  WIN2XEND= '768     '           / X end of window 2                              WIN2YEND= '768     '           / Y end of window 2                              CALFILE = 'draco_onboardcaltable_20210107.mat' / calibration file               SOCQUATA= ' 0.106982407457716' / SC quaternion in J2000 (q0) using ACQTMSOC     SOCQUATX= '-0.605261173554069' / SC quaternion in J2000 (q1) using ACQTMSOC     SOCQUATY= ' 0.664930502882374' / SC quaternion in J2000 (q2) using ACQTMSOC     SOCQUATZ= '-0.424359638301166' / SC quaternion in J2000 (q3) using ACQTMSOC     SMERSINX= ' 1.32608e-09'       / [rad/sec] Angular rate about SC +X axis        SMERSINY= '-1.19559e-09'       / [rad/sec] Angular rate about SC +Y axis        SMERSINZ= ' 1.42134e-07'       / [rad/sec] Angular rate about SC +Z axis        BORERA  = '326.460016'         / [deg] Boresight right ascension                BOREDEC = '-38.093553'         / [deg] Boresight declination                    CELN_CLK= '28.16   '           / [deg] Celestial north clock angle              ECLN_CLK= '49.30   '           / [deg] Ecliptic north clock angle               PXARCS  = '1.02    '           / [arcsec] Pixel scale                           PXMRAD  = '4.96    '           / [microradians] Pixel scale                     PHDIST  = '1.04    '           / [AU] Heliocentric distance - Primary           PSCRNG  = '1.7338e+03'         / [km] Spacecraft range - Primary                PSPHASE = '56.10   '           / [deg] Solar phase angle - Primary              PSELON  = '73.57   '           / [deg] Solar elongation - Primary               PPPCLK  = '228.64  '           / [deg] Positive pole clock angle - Primary      PSUBLAT = '38.08   '           / [deg] Sub-observer latitude - Primary          PSUBLON = '146.51  '           / [deg] Sub-observer longitude - Primary         PSSOLLAT= '-1.07   '           / [deg] Sub-solar latitude - Primary             PSSOLLON= '190.18  '           / [deg] Sub-solar longitude - Primary            SHDIST  = '1.04    '           / [AU] Heliocentric distance - Secondary         SSCRNG  = '1.7338e+03'         / [km] Spacecraft range - Secondary              SSPHASE = '56.14   '           / [deg] Solar phase angle - Secondary            SSELON  = '73.59   '           / [deg] Solar elongation - Secondary             SPPCLK  = '228.64  '           / [deg] Positive pole clock angle - Secondary    SSUBLAT = '38.09   '           / [deg] Sub-observer latitude - Secondary        SSUBLON = '146.46  '           / [deg] Sub-observer longitude - Secondary       SSSOLLAT= '-1.07   '           / [deg] Sub-solar latitude - Secondary           SSSOLLON= '190.18  '           / [deg] Sub-solar longitude - Secondary          ONBRDCAL= 'NA      '           / On-board cal table status                      BIAS_SUB= 'PERFORM '           / Bias subtraction                               DARK_SUB= 'SKIP    '           / Dark subtraction                               FLATFIEL= 'PERFORM '           / Flat fielding                                  RADIANCE= 'PERFORM '           / Conversion to radiance                         IOVERF  = 'PERFORM '           / Conversion to I/F                              REFBADPX= 'draco_bad_pixels_20210107.fits' / bad pixel map file                 BADMASKV= '-1E30   '           / Value assigned to bad pixels                   REFBIAS = 'draco_bias_global_1x_n20c_20210225.fits' / ref bias file             REFFLAT = 'draco_flat_global_1x_20210224.fits' / Flat field file                LUPTABLE= 'draco_lookup_global_1x_20210215.csv' / Look-up table                 SATPXVAL= '1E30    '           / Value assigned to saturated pixels             PIVOTWL = '622     '           / pivot wavelength, nm                           RDIDYMOS= '4.11E8  '           / (e-/s)/[W/(m^2 nm sr)]                         F_SUN622= '1.6784  '           / solar flux at 1 AU at 622 nm, W/(m^2 nm)       END                                                                                                                                                                                                                                                                                                                                                                                                                                                                                                                                                                                                                                                                                                                                                                                                                                                                                                                                                                                                                                                                                                                                                                                                                                                                                                                                                                                                                                                                                                                                                                                                                                                                                                                                                                                                                                                                                                                                                                                                                                                                                                                                                                                                                                                                                                                                                                                                                                                                                                                                                                                                                                                                                                                                                                                                                                                                                                             \"\n"
     ]
    }
   ],
   "source": [
    "print(structures[0].data)"
   ]
  },
  {
   "cell_type": "code",
   "execution_count": 23,
   "metadata": {},
   "outputs": [
    {
     "data": {
      "text/plain": [
       "PDS_ndarray([[ 5.9707022e+00,  5.9762621e+00,  5.9817023e+00, ...,\n",
       "              -1.0000000e+32, -1.0000000e+32, -1.0000000e+32],\n",
       "             [ 5.9651546e+00,  5.9706697e+00,  5.9760957e+00, ...,\n",
       "              -1.0000000e+32, -1.0000000e+32, -1.0000000e+32],\n",
       "             [ 5.9595771e+00,  5.9650674e+00,  5.9705639e+00, ...,\n",
       "              -1.0000000e+32, -1.0000000e+32, -1.0000000e+32],\n",
       "             ...,\n",
       "             [ 4.9277449e+00,  4.9239421e+00,  4.9205527e+00, ...,\n",
       "              -1.0000000e+32, -1.0000000e+32, -1.0000000e+32],\n",
       "             [ 4.9317513e+00,  4.9272490e+00,  4.9240112e+00, ...,\n",
       "              -1.0000000e+32, -1.0000000e+32, -1.0000000e+32],\n",
       "             [ 4.9359632e+00,  4.9306068e+00,  4.9265380e+00, ...,\n",
       "              -1.0000000e+32, -1.0000000e+32, -1.0000000e+32]],\n",
       "            dtype=float32)"
      ]
     },
     "execution_count": 23,
     "metadata": {},
     "output_type": "execute_result"
    }
   ],
   "source": [
    "ycoord = structures['ycoord'].data\n",
    "ycoord\n"
   ]
  },
  {
   "cell_type": "code",
   "execution_count": 9,
   "metadata": {},
   "outputs": [
    {
     "name": "stdout",
     "output_type": "stream",
     "text": [
      "Processing label: /Users/zouxd/Meeting/PDS-reviews/2021-07-16/dart_spacecraft_bundle/dart/draco/final/calibrated/dart_0717891977_00957_01_cal.xml\n",
      "Found a Header structure: HEADER_0\n",
      "Found a Array_2D_Image structure: dart_0717891977_00957_01_cal\n",
      "Now processing a Array_2D_Image structure: dart_0717891977_00957_01_cal\n"
     ]
    },
    {
     "name": "stderr",
     "output_type": "stream",
     "text": [
      "/opt/anaconda3/lib/python3.7/site-packages/matplotlib/ticker.py:411: UserWarning: Warning: converting a masked element to nan.\n",
      "  return self.fmt % x\n"
     ]
    },
    {
     "ename": "KeyboardInterrupt",
     "evalue": "",
     "output_type": "error",
     "traceback": [
      "\u001b[0;31m---------------------------------------------------------------------------\u001b[0m",
      "\u001b[0;31mKeyboardInterrupt\u001b[0m                         Traceback (most recent call last)",
      "\u001b[0;32m<ipython-input-9-af936b8b1a2f>\u001b[0m in \u001b[0;36m<module>\u001b[0;34m\u001b[0m\n\u001b[0;32m----> 1\u001b[0;31m \u001b[0mpds4_tools\u001b[0m\u001b[0;34m.\u001b[0m\u001b[0mview\u001b[0m\u001b[0;34m(\u001b[0m\u001b[0;34m'/Users/zouxd/Meeting/PDS-reviews/2021-07-16/dart_spacecraft_bundle/dart/draco/final/calibrated/dart_0717891977_00957_01_cal.xml'\u001b[0m\u001b[0;34m)\u001b[0m\u001b[0;34m\u001b[0m\u001b[0;34m\u001b[0m\u001b[0m\n\u001b[0m",
      "\u001b[0;32m/opt/anaconda3/lib/python3.7/site-packages/pds4_tools/viewer/core.py\u001b[0m in \u001b[0;36mpds4_viewer\u001b[0;34m(filename, from_existing_structures, lazy_load, quiet)\u001b[0m\n\u001b[1;32m   1168\u001b[0m                  quiet=quiet, lazy_load=lazy_load)\n\u001b[1;32m   1169\u001b[0m \u001b[0;34m\u001b[0m\u001b[0m\n\u001b[0;32m-> 1170\u001b[0;31m     \u001b[0mroot\u001b[0m\u001b[0;34m.\u001b[0m\u001b[0mmainloop\u001b[0m\u001b[0;34m(\u001b[0m\u001b[0;34m)\u001b[0m\u001b[0;34m\u001b[0m\u001b[0;34m\u001b[0m\u001b[0m\n\u001b[0m\u001b[1;32m   1171\u001b[0m \u001b[0;34m\u001b[0m\u001b[0m\n\u001b[1;32m   1172\u001b[0m \u001b[0;34m\u001b[0m\u001b[0m\n",
      "\u001b[0;32m/opt/anaconda3/lib/python3.7/tkinter/__init__.py\u001b[0m in \u001b[0;36mmainloop\u001b[0;34m(self, n)\u001b[0m\n\u001b[1;32m   1281\u001b[0m     \u001b[0;32mdef\u001b[0m \u001b[0mmainloop\u001b[0m\u001b[0;34m(\u001b[0m\u001b[0mself\u001b[0m\u001b[0;34m,\u001b[0m \u001b[0mn\u001b[0m\u001b[0;34m=\u001b[0m\u001b[0;36m0\u001b[0m\u001b[0;34m)\u001b[0m\u001b[0;34m:\u001b[0m\u001b[0;34m\u001b[0m\u001b[0;34m\u001b[0m\u001b[0m\n\u001b[1;32m   1282\u001b[0m         \u001b[0;34m\"\"\"Call the mainloop of Tk.\"\"\"\u001b[0m\u001b[0;34m\u001b[0m\u001b[0;34m\u001b[0m\u001b[0m\n\u001b[0;32m-> 1283\u001b[0;31m         \u001b[0mself\u001b[0m\u001b[0;34m.\u001b[0m\u001b[0mtk\u001b[0m\u001b[0;34m.\u001b[0m\u001b[0mmainloop\u001b[0m\u001b[0;34m(\u001b[0m\u001b[0mn\u001b[0m\u001b[0;34m)\u001b[0m\u001b[0;34m\u001b[0m\u001b[0;34m\u001b[0m\u001b[0m\n\u001b[0m\u001b[1;32m   1284\u001b[0m     \u001b[0;32mdef\u001b[0m \u001b[0mquit\u001b[0m\u001b[0;34m(\u001b[0m\u001b[0mself\u001b[0m\u001b[0;34m)\u001b[0m\u001b[0;34m:\u001b[0m\u001b[0;34m\u001b[0m\u001b[0;34m\u001b[0m\u001b[0m\n\u001b[1;32m   1285\u001b[0m         \u001b[0;34m\"\"\"Quit the Tcl interpreter. All widgets will be destroyed.\"\"\"\u001b[0m\u001b[0;34m\u001b[0m\u001b[0;34m\u001b[0m\u001b[0m\n",
      "\u001b[0;31mKeyboardInterrupt\u001b[0m: "
     ]
    }
   ],
   "source": [
    "pds4_tools.view('/Users/zouxd/Meeting/PDS-reviews/2021-07-16/dart_spacecraft_bundle/dart/draco/final/calibrated/dart_0717891977_00957_01_cal.xml')"
   ]
  },
  {
   "cell_type": "code",
   "execution_count": 26,
   "metadata": {},
   "outputs": [],
   "source": [
    "from lxml import etree\n"
   ]
  },
  {
   "cell_type": "code",
   "execution_count": 27,
   "metadata": {},
   "outputs": [],
   "source": [
    "from lxml import etree\n",
    "from lxml.isoschematron import Schematron\n",
    "\n",
    "schematron = Schematron(etree.XML('''\n",
    "    <schema xmlns=\"http://purl.oclc.org/dsdl/schematron\" >\n",
    "      <pattern id=\"id_only_attribute\">\n",
    "        <title>id is the only permitted attribute name</title>\n",
    "        <rule context=\"*\">\n",
    "          <report test=\"@*[not(name()='id')]\">Attribute\n",
    "            <name path=\"@*[not(name()='id')]\"/> is forbidden<name/>\n",
    "          </report>\n",
    "        </rule>\n",
    "      </pattern>\n",
    "    </schema>'''),\n",
    "    error_finder=Schematron.ASSERTS_AND_REPORTS)"
   ]
  },
  {
   "cell_type": "code",
   "execution_count": 28,
   "metadata": {
    "scrolled": false
   },
   "outputs": [
    {
     "name": "stdout",
     "output_type": "stream",
     "text": [
      "Help on Schematron in module lxml.isoschematron object:\n",
      "\n",
      "class Schematron(lxml.etree._Validator)\n",
      " |  Schematron(etree=None, file=None, include=True, expand=True, include_params={}, expand_params={}, compile_params={}, store_schematron=False, store_xslt=False, store_report=False, phase=None, error_finder=//svrl:failed-assert)\n",
      " |  \n",
      " |  An ISO Schematron validator.\n",
      " |  \n",
      " |  Pass a root Element or an ElementTree to turn it into a validator.\n",
      " |  Alternatively, pass a filename as keyword argument 'file' to parse from\n",
      " |  the file system.\n",
      " |  \n",
      " |  Schematron is a less well known, but very powerful schema language.\n",
      " |  The main idea is to use the capabilities of XPath to put restrictions on\n",
      " |  the structure and the content of XML documents.\n",
      " |  \n",
      " |  The standard behaviour is to fail on ``failed-assert`` findings only\n",
      " |  (``ASSERTS_ONLY``).  To change this, you can either pass a report filter\n",
      " |  function to the ``error_finder`` parameter (e.g. ``ASSERTS_AND_REPORTS``\n",
      " |  or a custom ``XPath`` object), or subclass isoschematron.Schematron for\n",
      " |  complete control of the validation process.\n",
      " |  \n",
      " |  Built on the Schematron language 'reference' skeleton pure-xslt\n",
      " |  implementation, the validator is created as an XSLT 1.0 stylesheet using\n",
      " |  these steps:\n",
      " |  \n",
      " |   0) (Extract from XML Schema or RelaxNG schema)\n",
      " |   1) Process inclusions\n",
      " |   2) Process abstract patterns\n",
      " |   3) Compile the schematron schema to XSLT\n",
      " |  \n",
      " |  The ``include`` and ``expand`` keyword arguments can be used to switch off\n",
      " |  steps 1) and 2).\n",
      " |  To set parameters for steps 1), 2) and 3) hand parameter dictionaries to the\n",
      " |  keyword arguments ``include_params``, ``expand_params`` or\n",
      " |  ``compile_params``.\n",
      " |  For convenience, the compile-step parameter ``phase`` is also exposed as a\n",
      " |  keyword argument ``phase``. This takes precedence if the parameter is also\n",
      " |  given in the parameter dictionary.\n",
      " |  \n",
      " |  If ``store_schematron`` is set to True, the (included-and-expanded)\n",
      " |  schematron document tree is stored and available through the ``schematron``\n",
      " |  property.\n",
      " |  If ``store_xslt`` is set to True, the validation XSLT document tree will be\n",
      " |  stored and can be retrieved through the ``validator_xslt`` property.\n",
      " |  With ``store_report`` set to True (default: False), the resulting validation\n",
      " |  report document gets stored and can be accessed as the ``validation_report``\n",
      " |  property.\n",
      " |  \n",
      " |  Here is a usage example::\n",
      " |  \n",
      " |    >>> from lxml import etree\n",
      " |    >>> from lxml.isoschematron import Schematron\n",
      " |  \n",
      " |    >>> schematron = Schematron(etree.XML('''\n",
      " |    ... <schema xmlns=\"http://purl.oclc.org/dsdl/schematron\" >\n",
      " |    ...   <pattern id=\"id_only_attribute\">\n",
      " |    ...     <title>id is the only permitted attribute name</title>\n",
      " |    ...     <rule context=\"*\">\n",
      " |    ...       <report test=\"@*[not(name()='id')]\">Attribute\n",
      " |    ...         <name path=\"@*[not(name()='id')]\"/> is forbidden<name/>\n",
      " |    ...       </report>\n",
      " |    ...     </rule>\n",
      " |    ...   </pattern>\n",
      " |    ... </schema>'''),\n",
      " |    ... error_finder=Schematron.ASSERTS_AND_REPORTS)\n",
      " |  \n",
      " |    >>> xml = etree.XML('''\n",
      " |    ... <AAA name=\"aaa\">\n",
      " |    ...   <BBB id=\"bbb\"/>\n",
      " |    ...   <CCC color=\"ccc\"/>\n",
      " |    ... </AAA>\n",
      " |    ... ''')\n",
      " |  \n",
      " |    >>> schematron.validate(xml)\n",
      " |    False\n",
      " |  \n",
      " |    >>> xml = etree.XML('''\n",
      " |    ... <AAA id=\"aaa\">\n",
      " |    ...   <BBB id=\"bbb\"/>\n",
      " |    ...   <CCC/>\n",
      " |    ... </AAA>\n",
      " |    ... ''')\n",
      " |  \n",
      " |    >>> schematron.validate(xml)\n",
      " |    True\n",
      " |  \n",
      " |  Method resolution order:\n",
      " |      Schematron\n",
      " |      lxml.etree._Validator\n",
      " |      builtins.object\n",
      " |  \n",
      " |  Methods defined here:\n",
      " |  \n",
      " |  __call__(self, etree)\n",
      " |      Validate doc using Schematron.\n",
      " |      \n",
      " |      Returns true if document is valid, false if not.\n",
      " |  \n",
      " |  __init__(self, etree=None, file=None, include=True, expand=True, include_params={}, expand_params={}, compile_params={}, store_schematron=False, store_xslt=False, store_report=False, phase=None, error_finder=//svrl:failed-assert)\n",
      " |      Initialize self.  See help(type(self)) for accurate signature.\n",
      " |  \n",
      " |  ----------------------------------------------------------------------\n",
      " |  Data descriptors defined here:\n",
      " |  \n",
      " |  __dict__\n",
      " |      dictionary for instance variables (if defined)\n",
      " |  \n",
      " |  __weakref__\n",
      " |      list of weak references to the object (if defined)\n",
      " |  \n",
      " |  schematron\n",
      " |      ISO-schematron schema document (None if object has been initialized\n",
      " |      with store_schematron=False).\n",
      " |  \n",
      " |  validation_report\n",
      " |      ISO-schematron validation result report (None if result-storing has\n",
      " |      been turned off).\n",
      " |  \n",
      " |  validator_xslt\n",
      " |      ISO-schematron skeleton implementation XSLT validator document (None\n",
      " |      if object has been initialized with store_xslt=False).\n",
      " |  \n",
      " |  ----------------------------------------------------------------------\n",
      " |  Data and other attributes defined here:\n",
      " |  \n",
      " |  ASSERTS_AND_REPORTS = //svrl:failed-assert | //svrl:successful-report\n",
      " |      XPath(self, path, namespaces=None, extensions=None, regexp=True, smart_strings=True)\n",
      " |      A compiled XPath expression that can be called on Elements and ElementTrees.\n",
      " |      \n",
      " |      Besides the XPath expression, you can pass prefix-namespace\n",
      " |      mappings and extension functions to the constructor through the\n",
      " |      keyword arguments ``namespaces`` and ``extensions``.  EXSLT\n",
      " |      regular expression support can be disabled with the 'regexp'\n",
      " |      boolean keyword (defaults to True).  Smart strings will be\n",
      " |      returned for string results unless you pass\n",
      " |      ``smart_strings=False``.\n",
      " |  \n",
      " |  ASSERTS_ONLY = //svrl:failed-assert\n",
      " |      XPath(self, path, namespaces=None, extensions=None, regexp=True, smart_strings=True)\n",
      " |      A compiled XPath expression that can be called on Elements and ElementTrees.\n",
      " |      \n",
      " |      Besides the XPath expression, you can pass prefix-namespace\n",
      " |      mappings and extension functions to the constructor through the\n",
      " |      keyword arguments ``namespaces`` and ``extensions``.  EXSLT\n",
      " |      regular expression support can be disabled with the 'regexp'\n",
      " |      boolean keyword (defaults to True).  Smart strings will be\n",
      " |      returned for string results unless you pass\n",
      " |      ``smart_strings=False``.\n",
      " |  \n",
      " |  ----------------------------------------------------------------------\n",
      " |  Methods inherited from lxml.etree._Validator:\n",
      " |  \n",
      " |  assertValid(self, etree)\n",
      " |      assertValid(self, etree)\n",
      " |      \n",
      " |      Raises `DocumentInvalid` if the document does not comply with the schema.\n",
      " |  \n",
      " |  assert_(self, etree)\n",
      " |      assert_(self, etree)\n",
      " |      \n",
      " |      Raises `AssertionError` if the document does not comply with the schema.\n",
      " |  \n",
      " |  validate(self, etree)\n",
      " |      validate(self, etree)\n",
      " |      \n",
      " |      Validate the document using this schema.\n",
      " |      \n",
      " |      Returns true if document is valid, false if not.\n",
      " |  \n",
      " |  ----------------------------------------------------------------------\n",
      " |  Static methods inherited from lxml.etree._Validator:\n",
      " |  \n",
      " |  __new__(*args, **kwargs) from builtins.type\n",
      " |      Create and return a new object.  See help(type) for accurate signature.\n",
      " |  \n",
      " |  ----------------------------------------------------------------------\n",
      " |  Data descriptors inherited from lxml.etree._Validator:\n",
      " |  \n",
      " |  error_log\n",
      " |      The log of validation errors and warnings.\n",
      " |  \n",
      " |  ----------------------------------------------------------------------\n",
      " |  Data and other attributes inherited from lxml.etree._Validator:\n",
      " |  \n",
      " |  __pyx_vtable__ = <capsule object NULL>\n",
      "\n"
     ]
    }
   ],
   "source": [
    "help(schematron)"
   ]
  },
  {
   "cell_type": "code",
   "execution_count": null,
   "metadata": {},
   "outputs": [],
   "source": [
    "import os\n",
    "path = '/Users/zouxd/Meeting/PDS-reviews/2021-06-30-pharo-pluto/pharo-pluto/data/20180731'\n",
    "files = os.listdir(path)\n",
    "filenames = [os.path.join(path,file) for file in files if file.endswith('.fit')]\n",
    "print('%d fits file in the given path.' %(len(filenames)))\n"
   ]
  },
  {
   "cell_type": "code",
   "execution_count": null,
   "metadata": {},
   "outputs": [],
   "source": []
  }
 ],
 "metadata": {
  "kernelspec": {
   "display_name": "Python 3",
   "language": "python",
   "name": "python3"
  },
  "language_info": {
   "codemirror_mode": {
    "name": "ipython",
    "version": 3
   },
   "file_extension": ".py",
   "mimetype": "text/x-python",
   "name": "python",
   "nbconvert_exporter": "python",
   "pygments_lexer": "ipython3",
   "version": "3.7.6"
  }
 },
 "nbformat": 4,
 "nbformat_minor": 4
}
